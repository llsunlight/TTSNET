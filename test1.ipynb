{
 "cells": [
  {
   "cell_type": "code",
   "execution_count": 1,
   "metadata": {},
   "outputs": [],
   "source": [
    "import numpy as np\n",
    "import os\n",
    "from sklearn.discriminant_analysis import LinearDiscriminantAnalysis as LDA\n",
    "from sklearn.svm import SVC\n",
    "from sklearn.pipeline import make_pipeline\n",
    "from tqdm import tqdm\n",
    "import matplotlib.pyplot as plt\n",
    "from h5py import File\n",
    "from scripts.dataset import Dataset\n",
    "from scripts.model import STRCA, FBTRCA\n",
    "from scipy.linalg import eigh"
   ]
  },
  {
   "cell_type": "code",
   "execution_count": 2,
   "metadata": {},
   "outputs": [
    {
     "name": "stderr",
     "output_type": "stream",
     "text": [
      "Sub0:: 100%|██████████████████████████████████████| 5/5 [04:07<00:00, 49.58s/it]\n",
      "Sub1:: 100%|██████████████████████████████████████| 5/5 [03:48<00:00, 45.61s/it]\n",
      "Sub2:: 100%|██████████████████████████████████████| 5/5 [04:31<00:00, 54.24s/it]\n",
      "Sub3:: 100%|██████████████████████████████████████| 5/5 [04:48<00:00, 57.74s/it]\n",
      "Sub4:: 100%|██████████████████████████████████████| 5/5 [05:26<00:00, 65.32s/it]\n",
      "Sub5:: 100%|██████████████████████████████████████| 5/5 [05:27<00:00, 65.40s/it]\n",
      "Sub6:: 100%|██████████████████████████████████████| 5/5 [03:31<00:00, 42.29s/it]\n",
      "Sub7:: 100%|██████████████████████████████████████| 5/5 [06:12<00:00, 74.47s/it]\n",
      "Sub8:: 100%|██████████████████████████████████████| 5/5 [05:12<00:00, 62.43s/it]\n",
      "Sub9:: 100%|██████████████████████████████████████| 5/5 [03:29<00:00, 41.99s/it]\n",
      "Sub10:: 100%|█████████████████████████████████████| 5/5 [04:00<00:00, 48.06s/it]\n",
      "Sub11:: 100%|█████████████████████████████████████| 5/5 [04:37<00:00, 55.46s/it]\n",
      "Sub12:: 100%|█████████████████████████████████████| 5/5 [05:31<00:00, 66.37s/it]\n",
      "Sub13:: 100%|█████████████████████████████████████| 5/5 [04:50<00:00, 58.16s/it]\n",
      "Sub14:: 100%|█████████████████████████████████████| 5/5 [06:25<00:00, 77.17s/it]\n"
     ]
    }
   ],
   "source": [
    "if __name__==\"__main__\":\n",
    "    Fs = 256\n",
    "    Co = 11\n",
    "    num_fold = 5\n",
    "    num_subj = 15\n",
    "    max_freq = 10\n",
    "    step_bank= 2\n",
    "    frange = np.arange(step_bank,max_freq+1,step_bank)\n",
    "    channels = (np.int64([1,3,5,15,29,30,31,45,55,57,59])-1).tolist()\n",
    "    num_bank = int(max_freq/step_bank)\n",
    "    t  = [0, 2]\n",
    "    result = np.zeros([num_subj, num_fold, 4])\n",
    "\n",
    "    for sub in range(num_subj):\n",
    "        # dataset=Dataset(num_class=7,path='Dataset/DataBank/Dataset I/', channel=channels)\n",
    "        dataset=Dataset(num_class=7,path='/Volumes/T.C.angle/Dataset/OData/Dataset I/', channel=channels)\n",
    "        dataset.load_data(sub, None)\n",
    "        dataset.divide_data(num_fold)\n",
    "        dataset.filter_data(fs=Fs, frange=frange, order=8, btype='lowpass')\n",
    "        for fold in tqdm(range(num_fold), desc=f'Sub{sub}:'):\n",
    "            train_set, train_label, test_set, test_label = dataset.retreive_data(\n",
    "                    class_index=[0,1,2,3,4,5,6], fold_index=fold, filter_index=np.arange(len(frange))+1)\n",
    "            train_set = train_set[:,:,int(t[0]*Fs):int(t[1]*Fs),:]\n",
    "            test_set  = test_set[:,:,int(t[0]*Fs):int(t[1]*Fs),:]\n",
    "\n",
    "            fbtrca = FBTRCA(Co, frange, optimizer='trca', ifG=False)\n",
    "            fbtrca.fit(train_set, train_label)\n",
    "            train_data = fbtrca.transform(train_set).reshape((len(train_label), fbtrca.K, 8, len(frange)))\n",
    "            test_data  = fbtrca.transform(test_set).reshape((len(test_label), fbtrca.K, 8, len(frange)))\n",
    "            svm   = SVC(kernel='rbf')\n",
    "            svm.fit(train_data.reshape((len(train_label), fbtrca.K*8*len(frange))), train_label)\n",
    "            result[sub,fold, 0] =svm.score(test_data.reshape((len(test_label), fbtrca.K*8*len(frange))), test_label)\n",
    "\n",
    "            fbtrca = FBTRCA(Co, frange, optimizer='trca', ifG=True)\n",
    "            fbtrca.fit(train_set, train_label)\n",
    "            train_data = fbtrca.transform(train_set).reshape((len(train_label), fbtrca.K, 8, len(frange)))\n",
    "            test_data  = fbtrca.transform(test_set).reshape((len(test_label), fbtrca.K, 8, len(frange)))\n",
    "            svm   = SVC(kernel='rbf')\n",
    "            svm.fit(train_data.reshape((len(train_label), fbtrca.K*8*len(frange))), train_label)\n",
    "            result[sub,fold, 1] =svm.score(test_data.reshape((len(test_label), fbtrca.K*8*len(frange))), test_label)\n",
    "            \n",
    "            fbtrca = FBTRCA(Co, frange, optimizer='tdlda', ifG=False)\n",
    "            fbtrca.fit(train_set, train_label)\n",
    "            train_data = fbtrca.transform(train_set).reshape((len(train_label), fbtrca.K, 8, len(frange)))\n",
    "            test_data  = fbtrca.transform(test_set).reshape((len(test_label), fbtrca.K, 8, len(frange)))\n",
    "            svm   = SVC(kernel='rbf')\n",
    "            svm.fit(train_data.reshape((len(train_label), fbtrca.K*8*len(frange))), train_label)\n",
    "            result[sub,fold, 2] =svm.score(test_data.reshape((len(test_label), fbtrca.K*8*len(frange))), test_label)\n",
    "\n",
    "            fbtrca = FBTRCA(Co, frange, optimizer='tdlda', ifG=True)\n",
    "            fbtrca.fit(train_set, train_label)\n",
    "            train_data = fbtrca.transform(train_set).reshape((len(train_label), fbtrca.K, 8, len(frange)))\n",
    "            test_data  = fbtrca.transform(test_set).reshape((len(test_label), fbtrca.K, 8, len(frange)))\n",
    "            svm   = SVC(kernel='rbf')\n",
    "            svm.fit(train_data.reshape((len(train_label), fbtrca.K*8*len(frange))), train_label)\n",
    "            result[sub,fold, 3] =svm.score(test_data.reshape((len(test_label), fbtrca.K*8*len(frange))), test_label)"
   ]
  },
  {
   "cell_type": "code",
   "execution_count": 5,
   "metadata": {},
   "outputs": [
    {
     "data": {
      "text/plain": [
       "array([0.43845173, 0.44258434, 0.44883796, 0.45489843])"
      ]
     },
     "execution_count": 5,
     "metadata": {},
     "output_type": "execute_result"
    }
   ],
   "source": [
    "np.mean(result,axis=(0,1))"
   ]
  },
  {
   "cell_type": "code",
   "execution_count": 7,
   "metadata": {},
   "outputs": [
    {
     "name": "stderr",
     "output_type": "stream",
     "text": [
      "Sub0::   0%|                                              | 0/5 [00:05<?, ?it/s]\n"
     ]
    },
    {
     "ename": "KeyboardInterrupt",
     "evalue": "",
     "output_type": "error",
     "traceback": [
      "\u001b[0;31m---------------------------------------------------------------------------\u001b[0m",
      "\u001b[0;31mKeyboardInterrupt\u001b[0m                         Traceback (most recent call last)",
      "Cell \u001b[0;32mIn[7], line 29\u001b[0m\n\u001b[1;32m     27\u001b[0m fbtrca\u001b[38;5;241m.\u001b[39mfit(train_set, train_label)\n\u001b[1;32m     28\u001b[0m train_data \u001b[38;5;241m=\u001b[39m fbtrca\u001b[38;5;241m.\u001b[39mtransform(train_set)\u001b[38;5;241m.\u001b[39mreshape((\u001b[38;5;28mlen\u001b[39m(train_label), fbtrca\u001b[38;5;241m.\u001b[39mK, \u001b[38;5;241m8\u001b[39m, \u001b[38;5;28mlen\u001b[39m(frange)))\n\u001b[0;32m---> 29\u001b[0m test_data  \u001b[38;5;241m=\u001b[39m \u001b[43mfbtrca\u001b[49m\u001b[38;5;241;43m.\u001b[39;49m\u001b[43mtransform\u001b[49m\u001b[43m(\u001b[49m\u001b[43mtest_set\u001b[49m\u001b[43m)\u001b[49m\u001b[38;5;241m.\u001b[39mreshape((\u001b[38;5;28mlen\u001b[39m(test_label), fbtrca\u001b[38;5;241m.\u001b[39mK, \u001b[38;5;241m8\u001b[39m, \u001b[38;5;28mlen\u001b[39m(frange)))\n\u001b[1;32m     30\u001b[0m svm   \u001b[38;5;241m=\u001b[39m SVC(kernel\u001b[38;5;241m=\u001b[39m\u001b[38;5;124m'\u001b[39m\u001b[38;5;124mrbf\u001b[39m\u001b[38;5;124m'\u001b[39m)\n\u001b[1;32m     31\u001b[0m svm\u001b[38;5;241m.\u001b[39mfit(train_data\u001b[38;5;241m.\u001b[39mreshape((\u001b[38;5;28mlen\u001b[39m(train_label), fbtrca\u001b[38;5;241m.\u001b[39mK\u001b[38;5;241m*\u001b[39m\u001b[38;5;241m8\u001b[39m\u001b[38;5;241m*\u001b[39m\u001b[38;5;28mlen\u001b[39m(frange))), train_label)\n",
      "File \u001b[0;32m/opt/anaconda3/envs/deeplearning/lib/python3.8/site-packages/sklearn/utils/_set_output.py:157\u001b[0m, in \u001b[0;36m_wrap_method_output.<locals>.wrapped\u001b[0;34m(self, X, *args, **kwargs)\u001b[0m\n\u001b[1;32m    155\u001b[0m \u001b[38;5;129m@wraps\u001b[39m(f)\n\u001b[1;32m    156\u001b[0m \u001b[38;5;28;01mdef\u001b[39;00m \u001b[38;5;21mwrapped\u001b[39m(\u001b[38;5;28mself\u001b[39m, X, \u001b[38;5;241m*\u001b[39margs, \u001b[38;5;241m*\u001b[39m\u001b[38;5;241m*\u001b[39mkwargs):\n\u001b[0;32m--> 157\u001b[0m     data_to_wrap \u001b[38;5;241m=\u001b[39m \u001b[43mf\u001b[49m\u001b[43m(\u001b[49m\u001b[38;5;28;43mself\u001b[39;49m\u001b[43m,\u001b[49m\u001b[43m \u001b[49m\u001b[43mX\u001b[49m\u001b[43m,\u001b[49m\u001b[43m \u001b[49m\u001b[38;5;241;43m*\u001b[39;49m\u001b[43margs\u001b[49m\u001b[43m,\u001b[49m\u001b[43m \u001b[49m\u001b[38;5;241;43m*\u001b[39;49m\u001b[38;5;241;43m*\u001b[39;49m\u001b[43mkwargs\u001b[49m\u001b[43m)\u001b[49m\n\u001b[1;32m    158\u001b[0m     \u001b[38;5;28;01mif\u001b[39;00m \u001b[38;5;28misinstance\u001b[39m(data_to_wrap, \u001b[38;5;28mtuple\u001b[39m):\n\u001b[1;32m    159\u001b[0m         \u001b[38;5;66;03m# only wrap the first output for cross decomposition\u001b[39;00m\n\u001b[1;32m    160\u001b[0m         return_tuple \u001b[38;5;241m=\u001b[39m (\n\u001b[1;32m    161\u001b[0m             _wrap_data_with_container(method, data_to_wrap[\u001b[38;5;241m0\u001b[39m], X, \u001b[38;5;28mself\u001b[39m),\n\u001b[1;32m    162\u001b[0m             \u001b[38;5;241m*\u001b[39mdata_to_wrap[\u001b[38;5;241m1\u001b[39m:],\n\u001b[1;32m    163\u001b[0m         )\n",
      "File \u001b[0;32m/Volumes/T.C.angle/TDLDA_已编辑/scripts/model.py:241\u001b[0m, in \u001b[0;36mFBTRCA.transform\u001b[0;34m(self, X)\u001b[0m\n\u001b[1;32m    239\u001b[0m pattern \u001b[38;5;241m=\u001b[39m np\u001b[38;5;241m.\u001b[39mzeros((X\u001b[38;5;241m.\u001b[39mshape[\u001b[38;5;241m0\u001b[39m], \u001b[38;5;28mself\u001b[39m\u001b[38;5;241m.\u001b[39mK\u001b[38;5;241m*\u001b[39m\u001b[38;5;241m8\u001b[39m, \u001b[38;5;28mlen\u001b[39m(\u001b[38;5;28mself\u001b[39m\u001b[38;5;241m.\u001b[39mfrequencies))) \u001b[38;5;66;03m# 试次数 每个类别提取 8 个特征 频带数 len(self.frequencies)\u001b[39;00m\n\u001b[1;32m    240\u001b[0m \u001b[38;5;28;01mfor\u001b[39;00m i, _ \u001b[38;5;129;01min\u001b[39;00m \u001b[38;5;28menumerate\u001b[39m(\u001b[38;5;28mself\u001b[39m\u001b[38;5;241m.\u001b[39mfrequencies):\n\u001b[0;32m--> 241\u001b[0m     pattern[:,:,i] \u001b[38;5;241m=\u001b[39m \u001b[38;5;28;43mself\u001b[39;49m\u001b[38;5;241;43m.\u001b[39;49m\u001b[43mstrcas\u001b[49m\u001b[43m[\u001b[49m\u001b[43mi\u001b[49m\u001b[43m]\u001b[49m\u001b[38;5;241;43m.\u001b[39;49m\u001b[43mtransform\u001b[49m\u001b[43m(\u001b[49m\u001b[43mX\u001b[49m\u001b[43m[\u001b[49m\u001b[43m:\u001b[49m\u001b[43m,\u001b[49m\u001b[43m:\u001b[49m\u001b[43m,\u001b[49m\u001b[43m:\u001b[49m\u001b[43m,\u001b[49m\u001b[43mi\u001b[49m\u001b[43m]\u001b[49m\u001b[43m)\u001b[49m \u001b[38;5;66;03m#用对应的STRCA提取i个频带的特征\u001b[39;00m\n\u001b[1;32m    242\u001b[0m \u001b[38;5;28;01mreturn\u001b[39;00m pattern\u001b[38;5;241m.\u001b[39mreshape(X\u001b[38;5;241m.\u001b[39mshape[\u001b[38;5;241m0\u001b[39m], \u001b[38;5;28mself\u001b[39m\u001b[38;5;241m.\u001b[39mK\u001b[38;5;241m*\u001b[39m\u001b[38;5;241m8\u001b[39m\u001b[38;5;241m*\u001b[39m\u001b[38;5;28mlen\u001b[39m(\u001b[38;5;28mself\u001b[39m\u001b[38;5;241m.\u001b[39mfrequencies))\n",
      "File \u001b[0;32m/opt/anaconda3/envs/deeplearning/lib/python3.8/site-packages/sklearn/utils/_set_output.py:157\u001b[0m, in \u001b[0;36m_wrap_method_output.<locals>.wrapped\u001b[0;34m(self, X, *args, **kwargs)\u001b[0m\n\u001b[1;32m    155\u001b[0m \u001b[38;5;129m@wraps\u001b[39m(f)\n\u001b[1;32m    156\u001b[0m \u001b[38;5;28;01mdef\u001b[39;00m \u001b[38;5;21mwrapped\u001b[39m(\u001b[38;5;28mself\u001b[39m, X, \u001b[38;5;241m*\u001b[39margs, \u001b[38;5;241m*\u001b[39m\u001b[38;5;241m*\u001b[39mkwargs):\n\u001b[0;32m--> 157\u001b[0m     data_to_wrap \u001b[38;5;241m=\u001b[39m \u001b[43mf\u001b[49m\u001b[43m(\u001b[49m\u001b[38;5;28;43mself\u001b[39;49m\u001b[43m,\u001b[49m\u001b[43m \u001b[49m\u001b[43mX\u001b[49m\u001b[43m,\u001b[49m\u001b[43m \u001b[49m\u001b[38;5;241;43m*\u001b[39;49m\u001b[43margs\u001b[49m\u001b[43m,\u001b[49m\u001b[43m \u001b[49m\u001b[38;5;241;43m*\u001b[39;49m\u001b[38;5;241;43m*\u001b[39;49m\u001b[43mkwargs\u001b[49m\u001b[43m)\u001b[49m\n\u001b[1;32m    158\u001b[0m     \u001b[38;5;28;01mif\u001b[39;00m \u001b[38;5;28misinstance\u001b[39m(data_to_wrap, \u001b[38;5;28mtuple\u001b[39m):\n\u001b[1;32m    159\u001b[0m         \u001b[38;5;66;03m# only wrap the first output for cross decomposition\u001b[39;00m\n\u001b[1;32m    160\u001b[0m         return_tuple \u001b[38;5;241m=\u001b[39m (\n\u001b[1;32m    161\u001b[0m             _wrap_data_with_container(method, data_to_wrap[\u001b[38;5;241m0\u001b[39m], X, \u001b[38;5;28mself\u001b[39m),\n\u001b[1;32m    162\u001b[0m             \u001b[38;5;241m*\u001b[39mdata_to_wrap[\u001b[38;5;241m1\u001b[39m:],\n\u001b[1;32m    163\u001b[0m         )\n",
      "File \u001b[0;32m/Volumes/T.C.angle/TDLDA_已编辑/scripts/model.py:146\u001b[0m, in \u001b[0;36mSTRCA.transform\u001b[0;34m(self, X, ifG)\u001b[0m\n\u001b[1;32m    144\u001b[0m         mx \u001b[38;5;241m=\u001b[39m \u001b[38;5;28mself\u001b[39m\u001b[38;5;241m.\u001b[39mM[c,:,:]\u001b[38;5;241m-\u001b[39mG \u001b[38;5;66;03m#目标类的平均模板\u001b[39;00m\n\u001b[1;32m    145\u001b[0m         mx_\u001b[38;5;241m=\u001b[39m (\u001b[38;5;28mself\u001b[39m\u001b[38;5;241m.\u001b[39mM\u001b[38;5;241m.\u001b[39msum(\u001b[38;5;241m0\u001b[39m)\u001b[38;5;241m-\u001b[39m\u001b[38;5;28mself\u001b[39m\u001b[38;5;241m.\u001b[39mM[c,:,:])\u001b[38;5;241m/\u001b[39m(\u001b[38;5;28mself\u001b[39m\u001b[38;5;241m.\u001b[39mK\u001b[38;5;241m-\u001b[39m\u001b[38;5;241m1\u001b[39m)\u001b[38;5;241m-\u001b[39mG \u001b[38;5;66;03m#非目标类的平均模板\u001b[39;00m\n\u001b[0;32m--> 146\u001b[0m         pattern[i,c,:]\u001b[38;5;241m=\u001b[39m\u001b[38;5;28;43mself\u001b[39;49m\u001b[38;5;241;43m.\u001b[39;49m\u001b[43mcorrfea\u001b[49m\u001b[43m(\u001b[49m\u001b[43mx\u001b[49m\u001b[38;5;241;43m.\u001b[39;49m\u001b[43mT\u001b[49m\u001b[43m,\u001b[49m\u001b[43m \u001b[49m\u001b[43mmx\u001b[49m\u001b[38;5;241;43m.\u001b[39;49m\u001b[43mT\u001b[49m\u001b[43m,\u001b[49m\u001b[43m \u001b[49m\u001b[43mmx_\u001b[49m\u001b[38;5;241;43m.\u001b[39;49m\u001b[43mT\u001b[49m\u001b[43m,\u001b[49m\u001b[43m \u001b[49m\u001b[43mW\u001b[49m\u001b[43m)\u001b[49m\n\u001b[1;32m    147\u001b[0m \u001b[38;5;28;01mreturn\u001b[39;00m pattern\u001b[38;5;241m.\u001b[39mreshape((X\u001b[38;5;241m.\u001b[39mshape[\u001b[38;5;241m0\u001b[39m], \u001b[38;5;241m-\u001b[39m\u001b[38;5;241m1\u001b[39m))\n",
      "File \u001b[0;32m/Volumes/T.C.angle/TDLDA_已编辑/scripts/model.py:195\u001b[0m, in \u001b[0;36mSTRCA.corrfea\u001b[0;34m(self, x, mx, mx_, W)\u001b[0m\n\u001b[1;32m    190\u001b[0m p[\u001b[38;5;241m0\u001b[39m, \u001b[38;5;241m1\u001b[39m] \u001b[38;5;241m=\u001b[39m \u001b[38;5;28mself\u001b[39m\u001b[38;5;241m.\u001b[39mpearcorr2d(x\u001b[38;5;129m@W\u001b[39m, mx\u001b[38;5;129m@W\u001b[39m) \u001b[38;5;66;03m### 加权，信号增强、降噪后比较 1\u001b[39;00m\n\u001b[1;32m    191\u001b[0m \u001b[38;5;66;03m# A, B    = self.canoncorr(x, mx)\u001b[39;00m\n\u001b[1;32m    192\u001b[0m \u001b[38;5;66;03m# p[0, 2] = self.pearcorr2d(x@A, mx@A)\u001b[39;00m\n\u001b[1;32m    193\u001b[0m \u001b[38;5;66;03m# p[0, 3] = self.pearcorr2d(x@B, mx@B) ### 3\u001b[39;00m\n\u001b[0;32m--> 195\u001b[0m p[\u001b[38;5;241m1\u001b[39m, \u001b[38;5;241m0\u001b[39m] \u001b[38;5;241m=\u001b[39m \u001b[38;5;28;43mself\u001b[39;49m\u001b[38;5;241;43m.\u001b[39;49m\u001b[43mpearcorr2d\u001b[49m\u001b[43m(\u001b[49m\u001b[43mx\u001b[49m\u001b[38;5;241;43m-\u001b[39;49m\u001b[43mmx_\u001b[49m\u001b[43m,\u001b[49m\u001b[43m \u001b[49m\u001b[43mmx\u001b[49m\u001b[38;5;241;43m-\u001b[39;49m\u001b[43mmx_\u001b[49m\u001b[43m)\u001b[49m \u001b[38;5;66;03m#把 x 和 mx 都减掉其他类别均值 mx_，再比相关性，消除其他类的公共部分\u001b[39;00m\n\u001b[1;32m    196\u001b[0m p[\u001b[38;5;241m1\u001b[39m, \u001b[38;5;241m1\u001b[39m] \u001b[38;5;241m=\u001b[39m \u001b[38;5;28mself\u001b[39m\u001b[38;5;241m.\u001b[39mpearcorr2d((x\u001b[38;5;241m-\u001b[39mmx_)\u001b[38;5;129m@W\u001b[39m, (mx\u001b[38;5;241m-\u001b[39mmx_)\u001b[38;5;129m@W\u001b[39m)\n\u001b[1;32m    197\u001b[0m \u001b[38;5;66;03m# A, B    = self.canoncorr(x-mx_, mx-mx_)\u001b[39;00m\n\u001b[1;32m    198\u001b[0m \u001b[38;5;66;03m# p[1, 2] = self.pearcorr2d((x-mx_)@A, (mx-mx_)@A) ### 6\u001b[39;00m\n\u001b[1;32m    199\u001b[0m \u001b[38;5;66;03m# p[1, 3] = self.pearcorr2d((x-mx_)@B, (mx-mx_)@B)\u001b[39;00m\n",
      "File \u001b[0;32m/Volumes/T.C.angle/TDLDA_已编辑/scripts/model.py:209\u001b[0m, in \u001b[0;36mSTRCA.pearcorr2d\u001b[0;34m(input1, input2)\u001b[0m\n\u001b[1;32m    207\u001b[0m input1 \u001b[38;5;241m=\u001b[39m input1\u001b[38;5;241m-\u001b[39mnp\u001b[38;5;241m.\u001b[39mmean(input1, axis\u001b[38;5;241m=\u001b[39m(\u001b[38;5;241m0\u001b[39m,\u001b[38;5;241m1\u001b[39m)) \n\u001b[1;32m    208\u001b[0m input2 \u001b[38;5;241m=\u001b[39m input2\u001b[38;5;241m-\u001b[39mnp\u001b[38;5;241m.\u001b[39mmean(input1, axis\u001b[38;5;241m=\u001b[39m(\u001b[38;5;241m0\u001b[39m,\u001b[38;5;241m1\u001b[39m))\n\u001b[0;32m--> 209\u001b[0m cc\u001b[38;5;241m=\u001b[39m\u001b[43mnp\u001b[49m\u001b[38;5;241;43m.\u001b[39;49m\u001b[43msum\u001b[49m\u001b[43m(\u001b[49m\u001b[43minput1\u001b[49m\u001b[38;5;241;43m*\u001b[39;49m\u001b[43minput2\u001b[49m\u001b[43m,\u001b[49m\u001b[43maxis\u001b[49m\u001b[38;5;241;43m=\u001b[39;49m\u001b[43m(\u001b[49m\u001b[38;5;241;43m0\u001b[39;49m\u001b[43m,\u001b[49m\u001b[38;5;241;43m1\u001b[39;49m\u001b[43m)\u001b[49m\u001b[43m)\u001b[49m \u001b[38;5;66;03m#协方差分子\u001b[39;00m\n\u001b[1;32m    210\u001b[0m c1\u001b[38;5;241m=\u001b[39mnp\u001b[38;5;241m.\u001b[39msum(input1\u001b[38;5;241m*\u001b[39minput1,axis\u001b[38;5;241m=\u001b[39m(\u001b[38;5;241m0\u001b[39m,\u001b[38;5;241m1\u001b[39m)) \u001b[38;5;66;03m#标准差分母\u001b[39;00m\n\u001b[1;32m    211\u001b[0m c2\u001b[38;5;241m=\u001b[39mnp\u001b[38;5;241m.\u001b[39msum(input2\u001b[38;5;241m*\u001b[39minput2,axis\u001b[38;5;241m=\u001b[39m(\u001b[38;5;241m0\u001b[39m,\u001b[38;5;241m1\u001b[39m))\n",
      "\u001b[0;31mKeyboardInterrupt\u001b[0m: "
     ]
    }
   ],
   "source": [
    "if __name__==\"__main__\":\n",
    "    Fs = 256\n",
    "    Co = 11\n",
    "    num_fold = 5\n",
    "    num_subj = 15\n",
    "    max_freq = 10\n",
    "    step_bank= 2\n",
    "    frange = np.arange(step_bank,max_freq+1,step_bank)\n",
    "    channels = (np.int64([1,3,5,15,29,30,31,45,55,57,59])-1).tolist()\n",
    "    num_bank = int(max_freq/step_bank)\n",
    "    t  = [0, 2]\n",
    "    result = np.zeros([num_subj, num_fold, 4])\n",
    "\n",
    "    for sub in range(num_subj):\n",
    "        # dataset=Dataset(num_class=7,path='Dataset/DataBank/Dataset I/', channel=channels)\n",
    "        dataset=Dataset(num_class=7,path='/Volumes/T.C.angle/Dataset/OData/Dataset I/', channel=channels)\n",
    "        dataset.load_data(sub, None)\n",
    "        dataset.divide_data(num_fold)\n",
    "        dataset.filter_data(fs=Fs, frange=frange, order=8, btype='bandpass')\n",
    "        for fold in tqdm(range(num_fold), desc=f'Sub{sub}:'):\n",
    "            train_set, train_label, test_set, test_label = dataset.retreive_data(\n",
    "                    class_index=[0,1,2,3,4,5,6], fold_index=fold, filter_index=np.arange(len(frange))+1)\n",
    "            train_set = train_set[:,:,int(t[0]*Fs):int(t[1]*Fs),:]\n",
    "            test_set  = test_set[:,:,int(t[0]*Fs):int(t[1]*Fs),:]\n",
    "\n",
    "            fbtrca = FBTRCA(Co, frange, optimizer='trca', ifG=False)\n",
    "            fbtrca.fit(train_set, train_label)\n",
    "            train_data = fbtrca.transform(train_set).reshape((len(train_label), fbtrca.K, 8, len(frange)))\n",
    "            test_data  = fbtrca.transform(test_set).reshape((len(test_label), fbtrca.K, 8, len(frange)))\n",
    "            svm   = SVC(kernel='rbf')\n",
    "            svm.fit(train_data.reshape((len(train_label), fbtrca.K*8*len(frange))), train_label)\n",
    "            result[sub,fold, 0] =svm.score(test_data.reshape((len(test_label), fbtrca.K*8*len(frange))), test_label)\n",
    "\n",
    "            fbtrca = FBTRCA(Co, frange, optimizer='trca', ifG=True)\n",
    "            fbtrca.fit(train_set, train_label)\n",
    "            train_data = fbtrca.transform(train_set).reshape((len(train_label), fbtrca.K, 8, len(frange)))\n",
    "            test_data  = fbtrca.transform(test_set).reshape((len(test_label), fbtrca.K, 8, len(frange)))\n",
    "            svm   = SVC(kernel='rbf')\n",
    "            svm.fit(train_data.reshape((len(train_label), fbtrca.K*8*len(frange))), train_label)\n",
    "            result[sub,fold, 1] =svm.score(test_data.reshape((len(test_label), fbtrca.K*8*len(frange))), test_label)\n",
    "            \n",
    "            fbtrca = FBTRCA(Co, frange, optimizer='tdlda', ifG=False)\n",
    "            fbtrca.fit(train_set, train_label)\n",
    "            train_data = fbtrca.transform(train_set).reshape((len(train_label), fbtrca.K, 8, len(frange)))\n",
    "            test_data  = fbtrca.transform(test_set).reshape((len(test_label), fbtrca.K, 8, len(frange)))\n",
    "            svm   = SVC(kernel='rbf')\n",
    "            svm.fit(train_data.reshape((len(train_label), fbtrca.K*8*len(frange))), train_label)\n",
    "            result[sub,fold, 2] =svm.score(test_data.reshape((len(test_label), fbtrca.K*8*len(frange))), test_label)\n",
    "\n",
    "            fbtrca = FBTRCA(Co, frange, optimizer='tdlda', ifG=True)\n",
    "            fbtrca.fit(train_set, train_label)\n",
    "            train_data = fbtrca.transform(train_set).reshape((len(train_label), fbtrca.K, 8, len(frange)))\n",
    "            test_data  = fbtrca.transform(test_set).reshape((len(test_label), fbtrca.K, 8, len(frange)))\n",
    "            svm   = SVC(kernel='rbf')\n",
    "            svm.fit(train_data.reshape((len(train_label), fbtrca.K*8*len(frange))), train_label)\n",
    "            result[sub,fold, 3] =svm.score(test_data.reshape((len(test_label), fbtrca.K*8*len(frange))), test_label)"
   ]
  },
  {
   "cell_type": "code",
   "execution_count": 5,
   "metadata": {},
   "outputs": [
    {
     "data": {
      "text/plain": [
       "array([0.40476469, 0.40553569, 0.34420591, 0.34232414])"
      ]
     },
     "execution_count": 5,
     "metadata": {},
     "output_type": "execute_result"
    }
   ],
   "source": [
    "np.mean(result,axis=(0,1))"
   ]
  }
 ],
 "metadata": {
  "kernelspec": {
   "display_name": "Python 3 (ipykernel)",
   "language": "python",
   "name": "python3"
  },
  "language_info": {
   "codemirror_mode": {
    "name": "ipython",
    "version": 3
   },
   "file_extension": ".py",
   "mimetype": "text/x-python",
   "name": "python",
   "nbconvert_exporter": "python",
   "pygments_lexer": "ipython3",
   "version": "3.8.20"
  }
 },
 "nbformat": 4,
 "nbformat_minor": 4
}
