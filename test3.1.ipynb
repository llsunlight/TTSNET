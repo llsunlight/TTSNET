{
 "cells": [
  {
   "cell_type": "code",
   "execution_count": 2,
   "metadata": {},
   "outputs": [],
   "source": [
    "import numpy as np\n",
    "import os\n",
    "from sklearn.discriminant_analysis import LinearDiscriminantAnalysis as LDA\n",
    "from sklearn.svm import SVC\n",
    "from sklearn.pipeline import make_pipeline\n",
    "from tqdm import tqdm\n",
    "import matplotlib.pyplot as plt\n",
    "from h5py import File\n",
    "from scripts.dataset import Dataset\n",
    "from scripts.model import STRCA, FBTRCA\n",
    "from scipy.linalg import eigh"
   ]
  },
  {
   "cell_type": "code",
   "execution_count": 2,
   "metadata": {},
   "outputs": [
    {
     "name": "stderr",
     "output_type": "stream",
     "text": [
      "Sub0:: 100%|██████████| 5/5 [00:13<00:00,  2.62s/it]\n",
      "Sub1:: 100%|██████████| 5/5 [00:12<00:00,  2.44s/it]\n",
      "Sub2:: 100%|██████████| 5/5 [00:11<00:00,  2.21s/it]\n",
      "Sub3:: 100%|██████████| 5/5 [00:12<00:00,  2.57s/it]\n",
      "Sub4:: 100%|██████████| 5/5 [00:12<00:00,  2.50s/it]\n",
      "Sub5:: 100%|██████████| 5/5 [00:11<00:00,  2.28s/it]\n",
      "Sub6:: 100%|██████████| 5/5 [00:13<00:00,  2.69s/it]\n",
      "Sub7:: 100%|██████████| 5/5 [00:12<00:00,  2.49s/it]\n",
      "Sub8:: 100%|██████████| 5/5 [00:11<00:00,  2.39s/it]\n",
      "Sub9:: 100%|██████████| 5/5 [00:13<00:00,  2.61s/it]\n",
      "Sub10:: 100%|██████████| 5/5 [00:10<00:00,  2.19s/it]\n",
      "Sub11:: 100%|██████████| 5/5 [00:10<00:00,  2.19s/it]\n",
      "Sub12:: 100%|██████████| 5/5 [00:13<00:00,  2.65s/it]\n",
      "Sub13:: 100%|██████████| 5/5 [00:11<00:00,  2.31s/it]\n",
      "Sub14:: 100%|██████████| 5/5 [00:12<00:00,  2.41s/it]\n"
     ]
    }
   ],
   "source": [
    "import numpy as np\n",
    "from tqdm import tqdm\n",
    "from sklearn.svm import SVC\n",
    "from sklearn.model_selection import GridSearchCV\n",
    "\n",
    "if __name__==\"__main__\":\n",
    "    Fs = 256\n",
    "    Co = 11\n",
    "    num_fold = 5\n",
    "    num_subj = 15\n",
    "    max_freq = 10\n",
    "    step_bank= 2\n",
    "    frange = np.arange(step_bank,max_freq+1,step_bank)\n",
    "    channels = (np.int64([1, 2, 3, 4, 5, 6, 7, 8, 9, 10, 11])-1).tolist()\n",
    "    num_bank = int(max_freq/step_bank)\n",
    "    t  = [0, 2]\n",
    "    result = np.zeros([num_subj, num_fold, 4])\n",
    "\n",
    "    for sub in range(num_subj):\n",
    "        dataset = Dataset(num_class=7, path='Dataset/OData/Dataset I/', channel=channels)\n",
    "        dataset.load_data(sub, None)\n",
    "        dataset.divide_data(num_fold)\n",
    "        dataset.filter_data(fs=Fs, frange=frange, order=8, btype='lowpass')\n",
    "        for fold in tqdm(range(num_fold), desc=f'Sub{sub}:'):\n",
    "            train_set, train_label, test_set, test_label = dataset.retreive_data(\n",
    "                class_index=[0, 1, 2, 3, 4, 5, 6], fold_index=fold, filter_index=np.arange(len(frange)) + 1)\n",
    "            train_set = train_set[:, :, int(t[0] * Fs):int(t[1] * Fs), :]\n",
    "            test_set = test_set[:, :, int(t[0] * Fs):int(t[1] * Fs), :]\n",
    "\n",
    "            train_data = train_set.reshape((len(train_label), -1))\n",
    "            test_data = test_set.reshape((len(test_label), -1))\n",
    "            svm = SVC(kernel='rbf')\n",
    "            svm.fit(train_data, train_label)\n",
    "            result[sub, fold, 0] = svm.score(test_data, test_label)"
   ]
  },
  {
   "cell_type": "code",
   "execution_count": 3,
   "metadata": {},
   "outputs": [
    {
     "data": {
      "text/plain": [
       "array([0.25742184, 0.        , 0.        , 0.        ])"
      ]
     },
     "execution_count": 3,
     "metadata": {},
     "output_type": "execute_result"
    }
   ],
   "source": [
    "np.mean(result,axis=(0,1))"
   ]
  },
  {
   "cell_type": "code",
   "execution_count": 4,
   "metadata": {},
   "outputs": [
    {
     "name": "stderr",
     "output_type": "stream",
     "text": [
      "Sub0:: 100%|██████████| 5/5 [00:26<00:00,  5.33s/it]\n",
      "Sub1:: 100%|██████████| 5/5 [00:24<00:00,  4.97s/it]\n",
      "Sub2:: 100%|██████████| 5/5 [00:16<00:00,  3.21s/it]\n",
      "Sub3:: 100%|██████████| 5/5 [00:25<00:00,  5.10s/it]\n",
      "Sub4:: 100%|██████████| 5/5 [00:25<00:00,  5.15s/it]\n",
      "Sub5:: 100%|██████████| 5/5 [00:22<00:00,  4.44s/it]\n",
      "Sub6:: 100%|██████████| 5/5 [00:27<00:00,  5.55s/it]\n",
      "Sub7:: 100%|██████████| 5/5 [00:26<00:00,  5.22s/it]\n",
      "Sub8:: 100%|██████████| 5/5 [00:25<00:00,  5.10s/it]\n",
      "Sub9:: 100%|██████████| 5/5 [00:27<00:00,  5.54s/it]\n",
      "Sub10:: 100%|██████████| 5/5 [00:22<00:00,  4.60s/it]\n",
      "Sub11:: 100%|██████████| 5/5 [00:22<00:00,  4.42s/it]\n",
      "Sub12:: 100%|██████████| 5/5 [00:27<00:00,  5.50s/it]\n",
      "Sub13:: 100%|██████████| 5/5 [00:24<00:00,  4.91s/it]\n",
      "Sub14:: 100%|██████████| 5/5 [00:25<00:00,  5.14s/it]\n"
     ]
    }
   ],
   "source": [
    "import numpy as np\n",
    "from tqdm import tqdm\n",
    "from sklearn.svm import SVC\n",
    "from sklearn.model_selection import GridSearchCV\n",
    "\n",
    "if __name__==\"__main__\":\n",
    "    Fs = 256\n",
    "    Co = 21\n",
    "    num_fold = 5\n",
    "    num_subj = 15\n",
    "    max_freq = 10\n",
    "    step_bank= 2\n",
    "    frange = np.arange(step_bank,max_freq+1,step_bank)\n",
    "    channels = (np.int64([1,3,5,12,15,18,20,21,24,25,29,30,31,35,36,39,40,45,55,57,59])-1).tolist()\n",
    "    num_bank = int(max_freq/step_bank)\n",
    "    t  = [0, 2]\n",
    "    result = np.zeros([num_subj, num_fold, 4])\n",
    "\n",
    "    for sub in range(num_subj):\n",
    "        dataset = Dataset(num_class=7, path='Dataset/OData/Dataset I/', channel=channels)\n",
    "        dataset.load_data(sub, None)\n",
    "        dataset.divide_data(num_fold)\n",
    "        dataset.filter_data(fs=Fs, frange=frange, order=8, btype='lowpass')\n",
    "        for fold in tqdm(range(num_fold), desc=f'Sub{sub}:'):\n",
    "            train_set, train_label, test_set, test_label = dataset.retreive_data(\n",
    "                class_index=[0, 1, 2, 3, 4, 5, 6], fold_index=fold, filter_index=np.arange(len(frange)) + 1)\n",
    "            train_set = train_set[:, :, int(t[0] * Fs):int(t[1] * Fs), :]\n",
    "            test_set = test_set[:, :, int(t[0] * Fs):int(t[1] * Fs), :]\n",
    "\n",
    "            train_data = train_set.reshape((len(train_label), -1))\n",
    "            test_data = test_set.reshape((len(test_label), -1))\n",
    "            svm = SVC(kernel='rbf')\n",
    "            svm.fit(train_data, train_label)\n",
    "            result[sub, fold, 0] = svm.score(test_data, test_label)"
   ]
  },
  {
   "cell_type": "code",
   "execution_count": 5,
   "metadata": {},
   "outputs": [
    {
     "data": {
      "text/plain": [
       "array([0.38404499, 0.        , 0.        , 0.        ])"
      ]
     },
     "execution_count": 5,
     "metadata": {},
     "output_type": "execute_result"
    }
   ],
   "source": [
    "np.mean(result,axis=(0,1))"
   ]
  },
  {
   "cell_type": "code",
   "execution_count": 3,
   "metadata": {},
   "outputs": [
    {
     "name": "stderr",
     "output_type": "stream",
     "text": [
      "Sub0:: 100%|██████████| 5/5 [00:40<00:00,  8.17s/it]\n",
      "Sub1:: 100%|██████████| 5/5 [00:37<00:00,  7.52s/it]\n",
      "Sub2:: 100%|██████████| 5/5 [00:24<00:00,  4.95s/it]\n",
      "Sub3:: 100%|██████████| 5/5 [00:25<00:00,  5.17s/it]\n",
      "Sub4:: 100%|██████████| 5/5 [00:39<00:00,  7.82s/it]\n",
      "Sub5:: 100%|██████████| 5/5 [00:34<00:00,  6.87s/it]\n",
      "Sub6:: 100%|██████████| 5/5 [00:42<00:00,  8.46s/it]\n",
      "Sub7:: 100%|██████████| 5/5 [00:39<00:00,  7.91s/it]\n",
      "Sub8:: 100%|██████████| 5/5 [00:38<00:00,  7.67s/it]\n",
      "Sub9:: 100%|██████████| 5/5 [00:42<00:00,  8.44s/it]\n",
      "Sub10:: 100%|██████████| 5/5 [00:35<00:00,  7.15s/it]\n",
      "Sub11:: 100%|██████████| 5/5 [00:33<00:00,  6.72s/it]\n",
      "Sub12:: 100%|██████████| 5/5 [00:42<00:00,  8.54s/it]\n",
      "Sub13:: 100%|██████████| 5/5 [00:37<00:00,  7.55s/it]\n",
      "Sub14:: 100%|██████████| 5/5 [00:38<00:00,  7.78s/it]\n"
     ]
    }
   ],
   "source": [
    "import numpy as np\n",
    "from tqdm import tqdm\n",
    "from sklearn.svm import SVC\n",
    "from sklearn.model_selection import GridSearchCV\n",
    "\n",
    "if __name__==\"__main__\":\n",
    "    Fs = 256\n",
    "    Co = 31\n",
    "    num_fold = 5\n",
    "    num_subj = 15\n",
    "    max_freq = 10\n",
    "    step_bank= 2\n",
    "    frange = np.arange(step_bank,max_freq+1,step_bank)\n",
    "    channels = (np.int64([1,3,5,6,11,12,13,15,17,18,20,21,24,25,27,29,30,31,33,35,36,39,40,42,43,45,47,48,55,57,59])-1).tolist()\n",
    "    num_bank = int(max_freq/step_bank)\n",
    "    t  = [0, 2]\n",
    "    result = np.zeros([num_subj, num_fold, 4])\n",
    "\n",
    "    for sub in range(num_subj):\n",
    "        dataset = Dataset(num_class=7, path='Dataset/OData/Dataset I/', channel=channels)\n",
    "        dataset.load_data(sub, None)\n",
    "        dataset.divide_data(num_fold)\n",
    "        dataset.filter_data(fs=Fs, frange=frange, order=8, btype='lowpass')\n",
    "        for fold in tqdm(range(num_fold), desc=f'Sub{sub}:'):\n",
    "            train_set, train_label, test_set, test_label = dataset.retreive_data(\n",
    "                class_index=[0, 1, 2, 3, 4, 5, 6], fold_index=fold, filter_index=np.arange(len(frange)) + 1)\n",
    "            train_set = train_set[:, :, int(t[0] * Fs):int(t[1] * Fs), :]\n",
    "            test_set = test_set[:, :, int(t[0] * Fs):int(t[1] * Fs), :]\n",
    "\n",
    "            train_data = train_set.reshape((len(train_label), -1))\n",
    "            test_data = test_set.reshape((len(test_label), -1))\n",
    "            svm = SVC(kernel='rbf')\n",
    "            svm.fit(train_data, train_label)\n",
    "            result[sub, fold, 0] = svm.score(test_data, test_label)"
   ]
  },
  {
   "cell_type": "code",
   "execution_count": 4,
   "metadata": {},
   "outputs": [
    {
     "data": {
      "text/plain": [
       "array([0.39973675, 0.        , 0.        , 0.        ])"
      ]
     },
     "execution_count": 4,
     "metadata": {},
     "output_type": "execute_result"
    }
   ],
   "source": [
    "np.mean(result,axis=(0,1))"
   ]
  },
  {
   "cell_type": "code",
   "execution_count": 5,
   "metadata": {},
   "outputs": [
    {
     "name": "stderr",
     "output_type": "stream",
     "text": [
      "Sub0:: 100%|██████████| 5/5 [00:55<00:00, 11.09s/it]\n",
      "Sub1:: 100%|██████████| 5/5 [00:51<00:00, 10.25s/it]\n",
      "Sub2:: 100%|██████████| 5/5 [00:34<00:00,  6.90s/it]\n",
      "Sub3:: 100%|██████████| 5/5 [00:36<00:00,  7.31s/it]\n",
      "Sub4:: 100%|██████████| 5/5 [00:53<00:00, 10.78s/it]\n",
      "Sub5:: 100%|██████████| 5/5 [00:46<00:00,  9.35s/it]\n",
      "Sub6:: 100%|██████████| 5/5 [00:57<00:00, 11.53s/it]\n",
      "Sub7:: 100%|██████████| 5/5 [00:54<00:00, 10.88s/it]\n",
      "Sub8:: 100%|██████████| 5/5 [00:52<00:00, 10.47s/it]\n",
      "Sub9:: 100%|██████████| 5/5 [00:57<00:00, 11.55s/it]\n",
      "Sub10:: 100%|██████████| 5/5 [00:48<00:00,  9.66s/it]\n",
      "Sub11:: 100%|██████████| 5/5 [00:46<00:00,  9.33s/it]\n",
      "Sub12:: 100%|██████████| 5/5 [00:56<00:00, 11.29s/it]\n",
      "Sub13:: 100%|██████████| 5/5 [00:50<00:00, 10.14s/it]\n",
      "Sub14:: 100%|██████████| 5/5 [00:52<00:00, 10.56s/it]\n"
     ]
    }
   ],
   "source": [
    "import numpy as np\n",
    "from tqdm import tqdm\n",
    "from sklearn.svm import SVC\n",
    "from sklearn.model_selection import GridSearchCV\n",
    "\n",
    "if __name__==\"__main__\":\n",
    "    Fs = 256\n",
    "    Co = 41\n",
    "    num_fold = 5\n",
    "    num_subj = 15\n",
    "    max_freq = 10\n",
    "    step_bank= 2\n",
    "    frange = np.arange(step_bank,max_freq+1,step_bank)\n",
    "    channels = (np.int64([1,3,5,6,7,10,11,12,13,15,17,18,19,20,21,24,25,26,27,28,29,30,31,32,33,35,36,39,40,42,43,45,47,48,49,50,53,54,55,57,59])-1).tolist()\n",
    "    num_bank = int(max_freq/step_bank)\n",
    "    t  = [0, 2]\n",
    "    result = np.zeros([num_subj, num_fold, 4])\n",
    "\n",
    "    for sub in range(num_subj):\n",
    "        dataset = Dataset(num_class=7, path='Dataset/OData/Dataset I/', channel=channels)\n",
    "        dataset.load_data(sub, None)\n",
    "        dataset.divide_data(num_fold)\n",
    "        dataset.filter_data(fs=Fs, frange=frange, order=8, btype='lowpass')\n",
    "        for fold in tqdm(range(num_fold), desc=f'Sub{sub}:'):\n",
    "            train_set, train_label, test_set, test_label = dataset.retreive_data(\n",
    "                class_index=[0, 1, 2, 3, 4, 5, 6], fold_index=fold, filter_index=np.arange(len(frange)) + 1)\n",
    "            train_set = train_set[:, :, int(t[0] * Fs):int(t[1] * Fs), :]\n",
    "            test_set = test_set[:, :, int(t[0] * Fs):int(t[1] * Fs), :]\n",
    "\n",
    "            train_data = train_set.reshape((len(train_label), -1))\n",
    "            test_data = test_set.reshape((len(test_label), -1))\n",
    "            svm = SVC(kernel='rbf')\n",
    "            svm.fit(train_data, train_label)\n",
    "            result[sub, fold, 0] = svm.score(test_data, test_label)"
   ]
  },
  {
   "cell_type": "code",
   "execution_count": 6,
   "metadata": {},
   "outputs": [
    {
     "data": {
      "text/plain": [
       "array([0.39759639, 0.        , 0.        , 0.        ])"
      ]
     },
     "execution_count": 6,
     "metadata": {},
     "output_type": "execute_result"
    }
   ],
   "source": [
    "np.mean(result,axis=(0,1))"
   ]
  },
  {
   "cell_type": "code",
   "execution_count": 7,
   "metadata": {},
   "outputs": [
    {
     "name": "stderr",
     "output_type": "stream",
     "text": [
      "Sub0:: 100%|██████████| 5/5 [01:26<00:00, 17.35s/it]\n",
      "Sub1:: 100%|██████████| 5/5 [01:20<00:00, 16.08s/it]\n",
      "Sub2:: 100%|██████████| 5/5 [00:57<00:00, 11.45s/it]\n",
      "Sub3:: 100%|██████████| 5/5 [01:01<00:00, 12.29s/it]\n",
      "Sub4:: 100%|██████████| 5/5 [01:24<00:00, 16.95s/it]\n",
      "Sub5:: 100%|██████████| 5/5 [01:14<00:00, 14.94s/it]\n",
      "Sub6:: 100%|██████████| 5/5 [01:32<00:00, 18.41s/it]\n",
      "Sub7:: 100%|██████████| 5/5 [01:25<00:00, 17.16s/it]\n",
      "Sub8:: 100%|██████████| 5/5 [01:25<00:00, 17.12s/it]\n",
      "Sub9:: 100%|██████████| 5/5 [01:32<00:00, 18.41s/it]\n",
      "Sub10:: 100%|██████████| 5/5 [01:16<00:00, 15.38s/it]\n",
      "Sub11:: 100%|██████████| 5/5 [01:14<00:00, 14.87s/it]\n",
      "Sub12:: 100%|██████████| 5/5 [01:29<00:00, 17.92s/it]\n",
      "Sub13:: 100%|██████████| 5/5 [01:21<00:00, 16.29s/it]\n",
      "Sub14:: 100%|██████████| 5/5 [01:24<00:00, 16.94s/it]\n"
     ]
    }
   ],
   "source": [
    "import numpy as np\n",
    "from tqdm import tqdm\n",
    "from sklearn.svm import SVC\n",
    "from sklearn.model_selection import GridSearchCV\n",
    "\n",
    "if __name__==\"__main__\":\n",
    "    Fs = 256\n",
    "    Co = 51\n",
    "    num_fold = 5\n",
    "    num_subj = 15\n",
    "    max_freq = 10\n",
    "    step_bank= 2\n",
    "    frange = np.arange(step_bank,max_freq+1,step_bank)\n",
    "    channels = (np.int64([1,2,3,4,5,6,7,10,11,12,13,14,15,16,17,18,19,20,21,24,25,26,27,28,29,30,31,32,33,34,35,36,39,40,41,42,43,44,45,46,47,48,49,50,53,54,55,56,57,58,59])-1).tolist()\n",
    "    num_bank = int(max_freq/step_bank)\n",
    "    t  = [0, 2]\n",
    "    result = np.zeros([num_subj, num_fold, 4])\n",
    "\n",
    "    for sub in range(num_subj):\n",
    "        dataset = Dataset(num_class=7, path='Dataset/OData/Dataset I/', channel=channels)\n",
    "        dataset.load_data(sub, None)\n",
    "        dataset.divide_data(num_fold)\n",
    "        dataset.filter_data(fs=Fs, frange=frange, order=8, btype='lowpass')\n",
    "        for fold in tqdm(range(num_fold), desc=f'Sub{sub}:'):\n",
    "            train_set, train_label, test_set, test_label = dataset.retreive_data(\n",
    "                class_index=[0, 1, 2, 3, 4, 5, 6], fold_index=fold, filter_index=np.arange(len(frange)) + 1)\n",
    "            train_set = train_set[:, :, int(t[0] * Fs):int(t[1] * Fs), :]\n",
    "            test_set = test_set[:, :, int(t[0] * Fs):int(t[1] * Fs), :]\n",
    "\n",
    "            train_data = train_set.reshape((len(train_label), -1))\n",
    "            test_data = test_set.reshape((len(test_label), -1))\n",
    "            svm = SVC(kernel='rbf')\n",
    "            svm.fit(train_data, train_label)\n",
    "            result[sub, fold, 0] = svm.score(test_data, test_label)"
   ]
  },
  {
   "cell_type": "code",
   "execution_count": 8,
   "metadata": {},
   "outputs": [
    {
     "data": {
      "text/plain": [
       "array([0.4014678, 0.       , 0.       , 0.       ])"
      ]
     },
     "execution_count": 8,
     "metadata": {},
     "output_type": "execute_result"
    }
   ],
   "source": [
    "np.mean(result,axis=(0,1))"
   ]
  },
  {
   "cell_type": "code",
   "execution_count": 9,
   "metadata": {},
   "outputs": [
    {
     "name": "stderr",
     "output_type": "stream",
     "text": [
      "Sub0:: 100%|██████████| 5/5 [01:45<00:00, 21.19s/it]\n",
      "Sub1:: 100%|██████████| 5/5 [01:37<00:00, 19.54s/it]\n",
      "Sub2:: 100%|██████████| 5/5 [01:09<00:00, 13.86s/it]\n",
      "Sub3:: 100%|██████████| 5/5 [01:11<00:00, 14.39s/it]\n",
      "Sub4:: 100%|██████████| 5/5 [01:41<00:00, 20.25s/it]\n",
      "Sub5:: 100%|██████████| 5/5 [01:28<00:00, 17.80s/it]\n",
      "Sub6:: 100%|██████████| 5/5 [01:49<00:00, 21.84s/it]\n",
      "Sub7:: 100%|██████████| 5/5 [01:42<00:00, 20.54s/it]\n",
      "Sub8:: 100%|██████████| 5/5 [01:41<00:00, 20.34s/it]\n",
      "Sub9:: 100%|██████████| 5/5 [01:50<00:00, 22.06s/it]\n",
      "Sub10:: 100%|██████████| 5/5 [01:31<00:00, 18.25s/it]\n",
      "Sub11:: 100%|██████████| 5/5 [01:28<00:00, 17.75s/it]\n",
      "Sub12:: 100%|██████████| 5/5 [01:46<00:00, 21.40s/it]\n",
      "Sub13:: 100%|██████████| 5/5 [01:37<00:00, 19.53s/it]\n",
      "Sub14:: 100%|██████████| 5/5 [01:40<00:00, 20.04s/it]\n"
     ]
    }
   ],
   "source": [
    "import numpy as np\n",
    "from tqdm import tqdm\n",
    "from sklearn.svm import SVC\n",
    "from sklearn.model_selection import GridSearchCV\n",
    "\n",
    "if __name__==\"__main__\":\n",
    "    Fs = 256\n",
    "    Co = 61\n",
    "    num_fold = 5\n",
    "    num_subj = 15\n",
    "    max_freq = 10\n",
    "    step_bank= 2\n",
    "    frange = np.arange(step_bank,max_freq+1,step_bank)\n",
    "    channels = (np.int64([1, 2, 3, 4, 5, 6, 7, 8, 9, 10, 11, 12, 13, 14, 15, 16, 17, 18, 19, 20, 21, 22, 23, 24, 25, 26, 27, 28, 29, 30, 31, 32, 33, 34, 35, 36, 37, 38, 39, 40, 41, 42, 43, 44, 45, 46, 47, 48, 49, 50, 51, 52, 53, 54, 55, 56, 57, 58, 59, 60, 61])-1).tolist()\n",
    "    num_bank = int(max_freq/step_bank)\n",
    "    t  = [0, 2]\n",
    "    result = np.zeros([num_subj, num_fold, 4])\n",
    "\n",
    "    for sub in range(num_subj):\n",
    "        dataset = Dataset(num_class=7, path='Dataset/OData/Dataset I/', channel=channels)\n",
    "        dataset.load_data(sub, None)\n",
    "        dataset.divide_data(num_fold)\n",
    "        dataset.filter_data(fs=Fs, frange=frange, order=8, btype='lowpass')\n",
    "        for fold in tqdm(range(num_fold), desc=f'Sub{sub}:'):\n",
    "            train_set, train_label, test_set, test_label = dataset.retreive_data(\n",
    "                class_index=[0, 1, 2, 3, 4, 5, 6], fold_index=fold, filter_index=np.arange(len(frange)) + 1)\n",
    "            train_set = train_set[:, :, int(t[0] * Fs):int(t[1] * Fs), :]\n",
    "            test_set = test_set[:, :, int(t[0] * Fs):int(t[1] * Fs), :]\n",
    "\n",
    "            train_data = train_set.reshape((len(train_label), -1))\n",
    "            test_data = test_set.reshape((len(test_label), -1))\n",
    "            svm = SVC(kernel='rbf')\n",
    "            svm.fit(train_data, train_label)\n",
    "            result[sub, fold, 0] = svm.score(test_data, test_label)"
   ]
  },
  {
   "cell_type": "code",
   "execution_count": 10,
   "metadata": {},
   "outputs": [
    {
     "data": {
      "text/plain": [
       "array([0.40589993, 0.        , 0.        , 0.        ])"
      ]
     },
     "execution_count": 10,
     "metadata": {},
     "output_type": "execute_result"
    }
   ],
   "source": [
    "np.mean(result,axis=(0,1))"
   ]
  }
 ],
 "metadata": {
  "kernelspec": {
   "display_name": "Python 3 (ipykernel)",
   "language": "python",
   "name": "python3"
  },
  "language_info": {
   "codemirror_mode": {
    "name": "ipython",
    "version": 3
   },
   "file_extension": ".py",
   "mimetype": "text/x-python",
   "name": "python",
   "nbconvert_exporter": "python",
   "pygments_lexer": "ipython3",
   "version": "3.8.20"
  }
 },
 "nbformat": 4,
 "nbformat_minor": 4
}
