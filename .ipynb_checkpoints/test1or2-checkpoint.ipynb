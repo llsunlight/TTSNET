{
 "cells": [
  {
   "cell_type": "code",
   "execution_count": 1,
   "metadata": {},
   "outputs": [],
   "source": [
    "import numpy as np\n",
    "import os\n",
    "from sklearn.discriminant_analysis import LinearDiscriminantAnalysis as LDA\n",
    "from sklearn.svm import SVC\n",
    "from sklearn.pipeline import make_pipeline\n",
    "from tqdm import tqdm\n",
    "import matplotlib.pyplot as plt\n",
    "from h5py import File\n",
    "from scripts.dataset import Dataset\n",
    "from scripts.model import STRCA, FBTRCA\n",
    "from scipy.linalg import eigh"
   ]
  },
  {
   "cell_type": "code",
   "execution_count": 2,
   "metadata": {},
   "outputs": [
    {
     "name": "stderr",
     "output_type": "stream",
     "text": [
      "Sub0:: 100%|██████████| 5/5 [00:45<00:00,  9.05s/it]\n",
      "Sub1:: 100%|██████████| 5/5 [00:43<00:00,  8.71s/it]\n",
      "Sub2:: 100%|██████████| 5/5 [00:41<00:00,  8.35s/it]\n",
      "Sub3:: 100%|██████████| 5/5 [00:45<00:00,  9.05s/it]\n",
      "Sub4:: 100%|██████████| 5/5 [00:43<00:00,  8.79s/it]\n",
      "Sub5:: 100%|██████████| 5/5 [00:41<00:00,  8.38s/it]\n",
      "Sub6:: 100%|██████████| 5/5 [00:45<00:00,  9.10s/it]\n",
      "Sub7:: 100%|██████████| 5/5 [00:43<00:00,  8.77s/it]\n",
      "Sub8:: 100%|██████████| 5/5 [00:46<00:00,  9.20s/it]\n",
      "Sub9:: 100%|██████████| 5/5 [00:46<00:00,  9.21s/it]\n",
      "Sub10:: 100%|██████████| 5/5 [00:41<00:00,  8.28s/it]\n",
      "Sub11:: 100%|██████████| 5/5 [00:41<00:00,  8.32s/it]\n",
      "Sub12:: 100%|██████████| 5/5 [00:45<00:00,  9.05s/it]\n",
      "Sub13:: 100%|██████████| 5/5 [00:42<00:00,  8.48s/it]\n",
      "Sub14:: 100%|██████████| 5/5 [00:43<00:00,  8.75s/it]\n"
     ]
    }
   ],
   "source": [
    "if __name__==\"__main__\":\n",
    "    Fs = 256\n",
    "    Co = 11\n",
    "    num_fold = 5\n",
    "    num_subj = 15\n",
    "    max_freq = 10\n",
    "    step_bank= 2\n",
    "    frange = np.arange(step_bank,max_freq+1,step_bank)\n",
    "    channels = (np.int64([1,3,5,15,29,30,31,45,55,57,59])-1).tolist()\n",
    "    num_bank = int(max_freq/step_bank)\n",
    "    t  = [0, 2]\n",
    "    result = np.zeros([num_subj, num_fold, 4])\n",
    "\n",
    "    for sub in range(num_subj):\n",
    "        # dataset=Dataset(num_class=7,path='Dataset/DataBank/Dataset I/', channel=channels)\n",
    "        dataset=Dataset(num_class=7,path='Dataset/OData/Dataset I/', channel=channels)\n",
    "        dataset.load_data(sub, None)\n",
    "        dataset.divide_data(num_fold)\n",
    "        dataset.filter_data(fs=Fs, frange=frange, order=8, btype='lowpass')\n",
    "        for fold in tqdm(range(num_fold), desc=f'Sub{sub}:'):\n",
    "            train_set, train_label, test_set, test_label = dataset.retreive_data(\n",
    "                    class_index=[0,1,2,3,4,5,6], fold_index=fold, filter_index=np.arange(len(frange))+1)\n",
    "            train_set = train_set[:,:,int(t[0]*Fs):int(t[1]*Fs),:]\n",
    "            test_set  = test_set[:,:,int(t[0]*Fs):int(t[1]*Fs),:]\n",
    "\n",
    "            fbtrca = FBTRCA(Co, frange, optimizer='trca', ifG=False)\n",
    "            fbtrca.fit(train_set, train_label)\n",
    "            train_data = fbtrca.transform(train_set).reshape((len(train_label), fbtrca.K, 8, len(frange)))\n",
    "            test_data  = fbtrca.transform(test_set).reshape((len(test_label), fbtrca.K, 8, len(frange)))\n",
    "            svm   = SVC(kernel='rbf')\n",
    "            svm.fit(train_data.reshape((len(train_label), fbtrca.K*8*len(frange))), train_label)\n",
    "            result[sub,fold, 0] =svm.score(test_data.reshape((len(test_label), fbtrca.K*8*len(frange))), test_label)\n",
    "\n",
    "            fbtrca = FBTRCA(Co, frange, optimizer='trca', ifG=True)\n",
    "            fbtrca.fit(train_set, train_label)\n",
    "            train_data = fbtrca.transform(train_set).reshape((len(train_label), fbtrca.K, 8, len(frange)))\n",
    "            test_data  = fbtrca.transform(test_set).reshape((len(test_label), fbtrca.K, 8, len(frange)))\n",
    "            svm   = SVC(kernel='rbf')\n",
    "            svm.fit(train_data.reshape((len(train_label), fbtrca.K*8*len(frange))), train_label)\n",
    "            result[sub,fold, 1] =svm.score(test_data.reshape((len(test_label), fbtrca.K*8*len(frange))), test_label)\n",
    "            \n",
    "            fbtrca = FBTRCA(Co, frange, optimizer='tdlda', ifG=False)\n",
    "            fbtrca.fit(train_set, train_label)\n",
    "            train_data = fbtrca.transform(train_set).reshape((len(train_label), fbtrca.K, 8, len(frange)))\n",
    "            test_data  = fbtrca.transform(test_set).reshape((len(test_label), fbtrca.K, 8, len(frange)))\n",
    "            svm   = SVC(kernel='rbf')\n",
    "            svm.fit(train_data.reshape((len(train_label), fbtrca.K*8*len(frange))), train_label)\n",
    "            result[sub,fold, 2] =svm.score(test_data.reshape((len(test_label), fbtrca.K*8*len(frange))), test_label)\n",
    "\n",
    "            fbtrca = FBTRCA(Co, frange, optimizer='tdlda', ifG=True)\n",
    "            fbtrca.fit(train_set, train_label)\n",
    "            train_data = fbtrca.transform(train_set).reshape((len(train_label), fbtrca.K, 8, len(frange)))\n",
    "            test_data  = fbtrca.transform(test_set).reshape((len(test_label), fbtrca.K, 8, len(frange)))\n",
    "            svm   = SVC(kernel='rbf')\n",
    "            svm.fit(train_data.reshape((len(train_label), fbtrca.K*8*len(frange))), train_label)\n",
    "            result[sub,fold, 3] =svm.score(test_data.reshape((len(test_label), fbtrca.K*8*len(frange))), test_label)"
   ]
  },
  {
   "cell_type": "code",
   "execution_count": 3,
   "metadata": {},
   "outputs": [
    {
     "data": {
      "text/plain": [
       "array([0.43845173, 0.44258434, 0.44883796, 0.45489843])"
      ]
     },
     "execution_count": 3,
     "metadata": {},
     "output_type": "execute_result"
    }
   ],
   "source": [
    "np.mean(result,axis=(0,1))"
   ]
  },
  {
   "cell_type": "code",
   "execution_count": 4,
   "metadata": {},
   "outputs": [
    {
     "name": "stderr",
     "output_type": "stream",
     "text": [
      "Sub0:: 100%|██████████| 5/5 [00:44<00:00,  8.99s/it]\n",
      "Sub1:: 100%|██████████| 5/5 [00:43<00:00,  8.66s/it]\n",
      "Sub2:: 100%|██████████| 5/5 [00:41<00:00,  8.36s/it]\n",
      "Sub3:: 100%|██████████| 5/5 [00:44<00:00,  8.98s/it]\n",
      "Sub4:: 100%|██████████| 5/5 [00:44<00:00,  8.80s/it]\n",
      "Sub5:: 100%|██████████| 5/5 [00:41<00:00,  8.37s/it]\n",
      "Sub6:: 100%|██████████| 5/5 [00:44<00:00,  8.98s/it]\n",
      "Sub7:: 100%|██████████| 5/5 [00:44<00:00,  8.83s/it]\n",
      "Sub8:: 100%|██████████| 5/5 [00:45<00:00,  9.17s/it]\n",
      "Sub9:: 100%|██████████| 5/5 [00:47<00:00,  9.49s/it]\n",
      "Sub10:: 100%|██████████| 5/5 [00:41<00:00,  8.35s/it]\n",
      "Sub11:: 100%|██████████| 5/5 [00:42<00:00,  8.41s/it]\n",
      "Sub12:: 100%|██████████| 5/5 [00:45<00:00,  9.14s/it]\n",
      "Sub13:: 100%|██████████| 5/5 [00:42<00:00,  8.51s/it]\n",
      "Sub14:: 100%|██████████| 5/5 [00:43<00:00,  8.69s/it]\n"
     ]
    }
   ],
   "source": [
    "if __name__==\"__main__\":\n",
    "    Fs = 256\n",
    "    Co = 11\n",
    "    num_fold = 5\n",
    "    num_subj = 15\n",
    "    max_freq = 10\n",
    "    step_bank= 2\n",
    "    frange = np.arange(step_bank,max_freq+1,step_bank)\n",
    "    channels = (np.int64([1,3,5,15,29,30,31,45,55,57,59])-1).tolist()\n",
    "    num_bank = int(max_freq/step_bank)\n",
    "    t  = [0, 2]\n",
    "    result = np.zeros([num_subj, num_fold, 4])\n",
    "\n",
    "    for sub in range(num_subj):\n",
    "        # dataset=Dataset(num_class=7,path='Dataset/DataBank/Dataset I/', channel=channels)\n",
    "        dataset=Dataset(num_class=7,path='Dataset/OData/Dataset I/', channel=channels)\n",
    "        dataset.load_data(sub, None)\n",
    "        dataset.divide_data(num_fold)\n",
    "        dataset.filter_data(fs=Fs, frange=frange, order=8, btype='bandpass')\n",
    "        for fold in tqdm(range(num_fold), desc=f'Sub{sub}:'):\n",
    "            train_set, train_label, test_set, test_label = dataset.retreive_data(\n",
    "                    class_index=[0,1,2,3,4,5,6], fold_index=fold, filter_index=np.arange(len(frange))+1)\n",
    "            train_set = train_set[:,:,int(t[0]*Fs):int(t[1]*Fs),:]\n",
    "            test_set  = test_set[:,:,int(t[0]*Fs):int(t[1]*Fs),:]\n",
    "\n",
    "            fbtrca = FBTRCA(Co, frange, optimizer='trca', ifG=False)\n",
    "            fbtrca.fit(train_set, train_label)\n",
    "            train_data = fbtrca.transform(train_set).reshape((len(train_label), fbtrca.K, 8, len(frange)))\n",
    "            test_data  = fbtrca.transform(test_set).reshape((len(test_label), fbtrca.K, 8, len(frange)))\n",
    "            svm   = SVC(kernel='rbf')\n",
    "            svm.fit(train_data.reshape((len(train_label), fbtrca.K*8*len(frange))), train_label)\n",
    "            result[sub,fold, 0] =svm.score(test_data.reshape((len(test_label), fbtrca.K*8*len(frange))), test_label)\n",
    "\n",
    "            fbtrca = FBTRCA(Co, frange, optimizer='trca', ifG=True)\n",
    "            fbtrca.fit(train_set, train_label)\n",
    "            train_data = fbtrca.transform(train_set).reshape((len(train_label), fbtrca.K, 8, len(frange)))\n",
    "            test_data  = fbtrca.transform(test_set).reshape((len(test_label), fbtrca.K, 8, len(frange)))\n",
    "            svm   = SVC(kernel='rbf')\n",
    "            svm.fit(train_data.reshape((len(train_label), fbtrca.K*8*len(frange))), train_label)\n",
    "            result[sub,fold, 1] =svm.score(test_data.reshape((len(test_label), fbtrca.K*8*len(frange))), test_label)\n",
    "            \n",
    "            fbtrca = FBTRCA(Co, frange, optimizer='tdlda', ifG=False)\n",
    "            fbtrca.fit(train_set, train_label)\n",
    "            train_data = fbtrca.transform(train_set).reshape((len(train_label), fbtrca.K, 8, len(frange)))\n",
    "            test_data  = fbtrca.transform(test_set).reshape((len(test_label), fbtrca.K, 8, len(frange)))\n",
    "            svm   = SVC(kernel='rbf')\n",
    "            svm.fit(train_data.reshape((len(train_label), fbtrca.K*8*len(frange))), train_label)\n",
    "            result[sub,fold, 2] =svm.score(test_data.reshape((len(test_label), fbtrca.K*8*len(frange))), test_label)\n",
    "\n",
    "            fbtrca = FBTRCA(Co, frange, optimizer='tdlda', ifG=True)\n",
    "            fbtrca.fit(train_set, train_label)\n",
    "            train_data = fbtrca.transform(train_set).reshape((len(train_label), fbtrca.K, 8, len(frange)))\n",
    "            test_data  = fbtrca.transform(test_set).reshape((len(test_label), fbtrca.K, 8, len(frange)))\n",
    "            svm   = SVC(kernel='rbf')\n",
    "            svm.fit(train_data.reshape((len(train_label), fbtrca.K*8*len(frange))), train_label)\n",
    "            result[sub,fold, 3] =svm.score(test_data.reshape((len(test_label), fbtrca.K*8*len(frange))), test_label)"
   ]
  },
  {
   "cell_type": "code",
   "execution_count": 5,
   "metadata": {},
   "outputs": [
    {
     "data": {
      "text/plain": [
       "array([0.40476469, 0.40553569, 0.34420591, 0.34232414])"
      ]
     },
     "execution_count": 5,
     "metadata": {},
     "output_type": "execute_result"
    }
   ],
   "source": [
    "np.mean(result,axis=(0,1))"
   ]
  }
 ],
 "metadata": {
  "kernelspec": {
   "display_name": "brain",
   "language": "python",
   "name": "python3"
  },
  "language_info": {
   "codemirror_mode": {
    "name": "ipython",
    "version": 3
   },
   "file_extension": ".py",
   "mimetype": "text/x-python",
   "name": "python",
   "nbconvert_exporter": "python",
   "pygments_lexer": "ipython3",
   "version": "3.11.7"
  }
 },
 "nbformat": 4,
 "nbformat_minor": 2
}
