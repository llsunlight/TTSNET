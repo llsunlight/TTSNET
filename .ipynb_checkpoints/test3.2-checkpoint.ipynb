{
 "cells": [
  {
   "cell_type": "code",
   "execution_count": 2,
   "metadata": {},
   "outputs": [],
   "source": [
    "import numpy as np\n",
    "import os\n",
    "from sklearn.discriminant_analysis import LinearDiscriminantAnalysis as LDA\n",
    "from sklearn.svm import SVC\n",
    "from sklearn.pipeline import make_pipeline\n",
    "from tqdm import tqdm\n",
    "import matplotlib.pyplot as plt\n",
    "from h5py import File\n",
    "from scripts.dataset import Dataset\n",
    "from scripts.model import STRCA, FBTRCA\n",
    "from scipy.linalg import eigh"
   ]
  },
  {
   "cell_type": "code",
   "execution_count": 2,
   "metadata": {},
   "outputs": [
    {
     "name": "stderr",
     "output_type": "stream",
     "text": [
      "Sub0:: 100%|██████████| 5/5 [00:45<00:00,  9.05s/it]\n",
      "Sub1:: 100%|██████████| 5/5 [00:43<00:00,  8.71s/it]\n",
      "Sub2:: 100%|██████████| 5/5 [00:41<00:00,  8.35s/it]\n",
      "Sub3:: 100%|██████████| 5/5 [00:45<00:00,  9.05s/it]\n",
      "Sub4:: 100%|██████████| 5/5 [00:43<00:00,  8.79s/it]\n",
      "Sub5:: 100%|██████████| 5/5 [00:41<00:00,  8.38s/it]\n",
      "Sub6:: 100%|██████████| 5/5 [00:45<00:00,  9.10s/it]\n",
      "Sub7:: 100%|██████████| 5/5 [00:43<00:00,  8.77s/it]\n",
      "Sub8:: 100%|██████████| 5/5 [00:46<00:00,  9.20s/it]\n",
      "Sub9:: 100%|██████████| 5/5 [00:46<00:00,  9.21s/it]\n",
      "Sub10:: 100%|██████████| 5/5 [00:41<00:00,  8.28s/it]\n",
      "Sub11:: 100%|██████████| 5/5 [00:41<00:00,  8.32s/it]\n",
      "Sub12:: 100%|██████████| 5/5 [00:45<00:00,  9.05s/it]\n",
      "Sub13:: 100%|██████████| 5/5 [00:42<00:00,  8.48s/it]\n",
      "Sub14:: 100%|██████████| 5/5 [00:43<00:00,  8.75s/it]\n"
     ]
    }
   ],
   "source": [
    "if __name__==\"__main__\":\n",
    "    Fs = 256\n",
    "    Co = 11\n",
    "    num_fold = 5\n",
    "    num_subj = 15\n",
    "    max_freq = 10\n",
    "    step_bank= 2\n",
    "    frange = np.arange(step_bank,max_freq+1,step_bank)\n",
    "    channels = (np.int64([1,3,5,15,29,30,31,45,55,57,59])-1).tolist()\n",
    "    num_bank = int(max_freq/step_bank)\n",
    "    t  = [0, 2]\n",
    "    result = np.zeros([num_subj, num_fold, 4])\n",
    "\n",
    "    for sub in range(num_subj):\n",
    "        # dataset=Dataset(num_class=7,path='Dataset/DataBank/Dataset I/', channel=channels)\n",
    "        dataset=Dataset(num_class=7,path='Dataset/OData/Dataset I/', channel=channels)\n",
    "        dataset.load_data(sub, None)\n",
    "        dataset.divide_data(num_fold)\n",
    "        dataset.filter_data(fs=Fs, frange=frange, order=8, btype='lowpass')\n",
    "        for fold in tqdm(range(num_fold), desc=f'Sub{sub}:'):\n",
    "            train_set, train_label, test_set, test_label = dataset.retreive_data(\n",
    "                    class_index=[0,1,2,3,4,5,6], fold_index=fold, filter_index=np.arange(len(frange))+1)\n",
    "            train_set = train_set[:,:,int(t[0]*Fs):int(t[1]*Fs),:]\n",
    "            test_set  = test_set[:,:,int(t[0]*Fs):int(t[1]*Fs),:]\n",
    "\n",
    "            fbtrca = FBTRCA(Co, frange, optimizer='trca', ifG=False)\n",
    "            fbtrca.fit(train_set, train_label)\n",
    "            train_data = fbtrca.transform(train_set).reshape((len(train_label), fbtrca.K, 8, len(frange)))\n",
    "            test_data  = fbtrca.transform(test_set).reshape((len(test_label), fbtrca.K, 8, len(frange)))\n",
    "            svm   = SVC(kernel='rbf')\n",
    "            svm.fit(train_data.reshape((len(train_label), fbtrca.K*8*len(frange))), train_label)\n",
    "            result[sub,fold, 0] =svm.score(test_data.reshape((len(test_label), fbtrca.K*8*len(frange))), test_label)\n",
    "\n",
    "            fbtrca = FBTRCA(Co, frange, optimizer='trca', ifG=True)\n",
    "            fbtrca.fit(train_set, train_label)\n",
    "            train_data = fbtrca.transform(train_set).reshape((len(train_label), fbtrca.K, 8, len(frange)))\n",
    "            test_data  = fbtrca.transform(test_set).reshape((len(test_label), fbtrca.K, 8, len(frange)))\n",
    "            svm   = SVC(kernel='rbf')\n",
    "            svm.fit(train_data.reshape((len(train_label), fbtrca.K*8*len(frange))), train_label)\n",
    "            result[sub,fold, 1] =svm.score(test_data.reshape((len(test_label), fbtrca.K*8*len(frange))), test_label)\n",
    "            \n",
    "            fbtrca = FBTRCA(Co, frange, optimizer='tdlda', ifG=False)\n",
    "            fbtrca.fit(train_set, train_label)\n",
    "            train_data = fbtrca.transform(train_set).reshape((len(train_label), fbtrca.K, 8, len(frange)))\n",
    "            test_data  = fbtrca.transform(test_set).reshape((len(test_label), fbtrca.K, 8, len(frange)))\n",
    "            svm   = SVC(kernel='rbf')\n",
    "            svm.fit(train_data.reshape((len(train_label), fbtrca.K*8*len(frange))), train_label)\n",
    "            result[sub,fold, 2] =svm.score(test_data.reshape((len(test_label), fbtrca.K*8*len(frange))), test_label)\n",
    "\n",
    "            fbtrca = FBTRCA(Co, frange, optimizer='tdlda', ifG=True)\n",
    "            fbtrca.fit(train_set, train_label)\n",
    "            train_data = fbtrca.transform(train_set).reshape((len(train_label), fbtrca.K, 8, len(frange)))\n",
    "            test_data  = fbtrca.transform(test_set).reshape((len(test_label), fbtrca.K, 8, len(frange)))\n",
    "            svm   = SVC(kernel='rbf')\n",
    "            svm.fit(train_data.reshape((len(train_label), fbtrca.K*8*len(frange))), train_label)\n",
    "            result[sub,fold, 3] =svm.score(test_data.reshape((len(test_label), fbtrca.K*8*len(frange))), test_label)"
   ]
  },
  {
   "cell_type": "code",
   "execution_count": 3,
   "metadata": {},
   "outputs": [
    {
     "data": {
      "text/plain": [
       "array([0.43845173, 0.44258434, 0.44883796, 0.45489843])"
      ]
     },
     "execution_count": 3,
     "metadata": {},
     "output_type": "execute_result"
    }
   ],
   "source": [
    "np.mean(result,axis=(0,1))"
   ]
  },
  {
   "cell_type": "code",
   "execution_count": 3,
   "metadata": {},
   "outputs": [
    {
     "name": "stderr",
     "output_type": "stream",
     "text": [
      "Sub0:: 100%|██████████| 5/5 [01:44<00:00, 20.99s/it]\n",
      "Sub1:: 100%|██████████| 5/5 [01:40<00:00, 20.16s/it]\n",
      "Sub2:: 100%|██████████| 5/5 [01:38<00:00, 19.61s/it]\n",
      "Sub3:: 100%|██████████| 5/5 [01:45<00:00, 21.12s/it]\n",
      "Sub4:: 100%|██████████| 5/5 [01:42<00:00, 20.58s/it]\n",
      "Sub5:: 100%|██████████| 5/5 [01:38<00:00, 19.75s/it]\n",
      "Sub6:: 100%|██████████| 5/5 [01:46<00:00, 21.24s/it]\n",
      "Sub7:: 100%|██████████| 5/5 [01:42<00:00, 20.46s/it]\n",
      "Sub8:: 100%|██████████| 5/5 [01:47<00:00, 21.56s/it]\n",
      "Sub9:: 100%|██████████| 5/5 [01:46<00:00, 21.31s/it]\n",
      "Sub10:: 100%|██████████| 5/5 [01:36<00:00, 19.28s/it]\n",
      "Sub11:: 100%|██████████| 5/5 [01:36<00:00, 19.36s/it]\n",
      "Sub12:: 100%|██████████| 5/5 [01:45<00:00, 21.15s/it]\n",
      "Sub13:: 100%|██████████| 5/5 [01:39<00:00, 19.85s/it]\n",
      "Sub14:: 100%|██████████| 5/5 [01:41<00:00, 20.36s/it]\n"
     ]
    }
   ],
   "source": [
    "if __name__==\"__main__\":\n",
    "    Fs = 256\n",
    "    Co = 21\n",
    "    num_fold = 5\n",
    "    num_subj = 15\n",
    "    max_freq = 10\n",
    "    step_bank= 2\n",
    "    frange = np.arange(step_bank,max_freq+1,step_bank)\n",
    "    channels = (np.int64([1,3,5,12,15,18,20,21,24,25,29,30,31,35,36,39,40,45,55,57,59])-1).tolist()\n",
    "    num_bank = int(max_freq/step_bank)\n",
    "    t  = [0, 2]\n",
    "    result = np.zeros([num_subj, num_fold, 4])\n",
    "\n",
    "    for sub in range(num_subj):\n",
    "        # dataset=Dataset(num_class=7,path='Dataset/DataBank/Dataset I/', channel=channels)\n",
    "        dataset=Dataset(num_class=7,path='Dataset/OData/Dataset I/', channel=channels)\n",
    "        dataset.load_data(sub, None)\n",
    "        dataset.divide_data(num_fold)\n",
    "        dataset.filter_data(fs=Fs, frange=frange, order=8, btype='lowpass')\n",
    "        for fold in tqdm(range(num_fold), desc=f'Sub{sub}:'):\n",
    "            train_set, train_label, test_set, test_label = dataset.retreive_data(\n",
    "                    class_index=[0,1,2,3,4,5,6], fold_index=fold, filter_index=np.arange(len(frange))+1)\n",
    "            train_set = train_set[:,:,int(t[0]*Fs):int(t[1]*Fs),:]\n",
    "            test_set  = test_set[:,:,int(t[0]*Fs):int(t[1]*Fs),:]\n",
    "\n",
    "            fbtrca = FBTRCA(Co, frange, optimizer='trca', ifG=False)\n",
    "            fbtrca.fit(train_set, train_label)\n",
    "            train_data = fbtrca.transform(train_set).reshape((len(train_label), fbtrca.K, 8, len(frange)))\n",
    "            test_data  = fbtrca.transform(test_set).reshape((len(test_label), fbtrca.K, 8, len(frange)))\n",
    "            svm   = SVC(kernel='rbf')\n",
    "            svm.fit(train_data.reshape((len(train_label), fbtrca.K*8*len(frange))), train_label)\n",
    "            result[sub,fold, 0] =svm.score(test_data.reshape((len(test_label), fbtrca.K*8*len(frange))), test_label)\n",
    "\n",
    "            fbtrca = FBTRCA(Co, frange, optimizer='trca', ifG=True)\n",
    "            fbtrca.fit(train_set, train_label)\n",
    "            train_data = fbtrca.transform(train_set).reshape((len(train_label), fbtrca.K, 8, len(frange)))\n",
    "            test_data  = fbtrca.transform(test_set).reshape((len(test_label), fbtrca.K, 8, len(frange)))\n",
    "            svm   = SVC(kernel='rbf')\n",
    "            svm.fit(train_data.reshape((len(train_label), fbtrca.K*8*len(frange))), train_label)\n",
    "            result[sub,fold, 1] =svm.score(test_data.reshape((len(test_label), fbtrca.K*8*len(frange))), test_label)\n",
    "            \n",
    "            fbtrca = FBTRCA(Co, frange, optimizer='tdlda', ifG=False)\n",
    "            fbtrca.fit(train_set, train_label)\n",
    "            train_data = fbtrca.transform(train_set).reshape((len(train_label), fbtrca.K, 8, len(frange)))\n",
    "            test_data  = fbtrca.transform(test_set).reshape((len(test_label), fbtrca.K, 8, len(frange)))\n",
    "            svm   = SVC(kernel='rbf')\n",
    "            svm.fit(train_data.reshape((len(train_label), fbtrca.K*8*len(frange))), train_label)\n",
    "            result[sub,fold, 2] =svm.score(test_data.reshape((len(test_label), fbtrca.K*8*len(frange))), test_label)\n",
    "\n",
    "            fbtrca = FBTRCA(Co, frange, optimizer='tdlda', ifG=True)\n",
    "            fbtrca.fit(train_set, train_label)\n",
    "            train_data = fbtrca.transform(train_set).reshape((len(train_label), fbtrca.K, 8, len(frange)))\n",
    "            test_data  = fbtrca.transform(test_set).reshape((len(test_label), fbtrca.K, 8, len(frange)))\n",
    "            svm   = SVC(kernel='rbf')\n",
    "            svm.fit(train_data.reshape((len(train_label), fbtrca.K*8*len(frange))), train_label)\n",
    "            result[sub,fold, 3] =svm.score(test_data.reshape((len(test_label), fbtrca.K*8*len(frange))), test_label)"
   ]
  },
  {
   "cell_type": "code",
   "execution_count": 4,
   "metadata": {},
   "outputs": [
    {
     "data": {
      "text/plain": [
       "array([0.44732911, 0.44591979, 0.46107003, 0.45626527])"
      ]
     },
     "execution_count": 4,
     "metadata": {},
     "output_type": "execute_result"
    }
   ],
   "source": [
    "np.mean(result,axis=(0,1))"
   ]
  },
  {
   "cell_type": "code",
   "execution_count": 3,
   "metadata": {},
   "outputs": [
    {
     "name": "stderr",
     "output_type": "stream",
     "text": [
      "Sub0:: 100%|██████████| 5/5 [02:58<00:00, 35.64s/it]\n",
      "Sub1:: 100%|██████████| 5/5 [02:50<00:00, 34.17s/it]\n",
      "Sub2:: 100%|██████████| 5/5 [02:45<00:00, 33.04s/it]\n",
      "Sub3:: 100%|██████████| 5/5 [02:55<00:00, 35.11s/it]\n",
      "Sub4:: 100%|██████████| 5/5 [02:51<00:00, 34.29s/it]\n",
      "Sub5:: 100%|██████████| 5/5 [02:45<00:00, 33.10s/it]\n",
      "Sub6:: 100%|██████████| 5/5 [02:56<00:00, 35.36s/it]\n",
      "Sub7:: 100%|██████████| 5/5 [02:51<00:00, 34.35s/it]\n",
      "Sub8:: 100%|██████████| 5/5 [03:00<00:00, 36.04s/it]\n",
      "Sub9:: 100%|██████████| 5/5 [02:58<00:00, 35.77s/it]\n",
      "Sub10:: 100%|██████████| 5/5 [02:42<00:00, 32.40s/it]\n",
      "Sub11:: 100%|██████████| 5/5 [02:43<00:00, 32.66s/it]\n",
      "Sub12:: 100%|██████████| 5/5 [02:58<00:00, 35.61s/it]\n",
      "Sub13:: 100%|██████████| 5/5 [02:46<00:00, 33.35s/it]\n",
      "Sub14:: 100%|██████████| 5/5 [02:51<00:00, 34.22s/it]\n"
     ]
    }
   ],
   "source": [
    "if __name__==\"__main__\":\n",
    "    Fs = 256\n",
    "    Co = 31\n",
    "    num_fold = 5\n",
    "    num_subj = 15\n",
    "    max_freq = 10\n",
    "    step_bank= 2\n",
    "    frange = np.arange(step_bank,max_freq+1,step_bank)\n",
    "    channels = (np.int64([1,3,5,6,11,12,13,15,17,18,20,21,24,25,27,29,30,31,33,35,36,39,40,42,43,45,47,48,55,57,59])-1).tolist()\n",
    "    num_bank = int(max_freq/step_bank)\n",
    "    t  = [0, 2]\n",
    "    result = np.zeros([num_subj, num_fold, 4])\n",
    "\n",
    "    for sub in range(num_subj):\n",
    "        # dataset=Dataset(num_class=7,path='Dataset/DataBank/Dataset I/', channel=channels)\n",
    "        dataset=Dataset(num_class=7,path='Dataset/OData/Dataset I/', channel=channels)\n",
    "        dataset.load_data(sub, None)\n",
    "        dataset.divide_data(num_fold)\n",
    "        dataset.filter_data(fs=Fs, frange=frange, order=8, btype='lowpass')\n",
    "        for fold in tqdm(range(num_fold), desc=f'Sub{sub}:'):\n",
    "            train_set, train_label, test_set, test_label = dataset.retreive_data(\n",
    "                    class_index=[0,1,2,3,4,5,6], fold_index=fold, filter_index=np.arange(len(frange))+1)\n",
    "            train_set = train_set[:,:,int(t[0]*Fs):int(t[1]*Fs),:]\n",
    "            test_set  = test_set[:,:,int(t[0]*Fs):int(t[1]*Fs),:]\n",
    "\n",
    "            fbtrca = FBTRCA(Co, frange, optimizer='trca', ifG=False)\n",
    "            fbtrca.fit(train_set, train_label)\n",
    "            train_data = fbtrca.transform(train_set).reshape((len(train_label), fbtrca.K, 8, len(frange)))\n",
    "            test_data  = fbtrca.transform(test_set).reshape((len(test_label), fbtrca.K, 8, len(frange)))\n",
    "            svm   = SVC(kernel='rbf')\n",
    "            svm.fit(train_data.reshape((len(train_label), fbtrca.K*8*len(frange))), train_label)\n",
    "            result[sub,fold, 0] =svm.score(test_data.reshape((len(test_label), fbtrca.K*8*len(frange))), test_label)\n",
    "\n",
    "            fbtrca = FBTRCA(Co, frange, optimizer='trca', ifG=True)\n",
    "            fbtrca.fit(train_set, train_label)\n",
    "            train_data = fbtrca.transform(train_set).reshape((len(train_label), fbtrca.K, 8, len(frange)))\n",
    "            test_data  = fbtrca.transform(test_set).reshape((len(test_label), fbtrca.K, 8, len(frange)))\n",
    "            svm   = SVC(kernel='rbf')\n",
    "            svm.fit(train_data.reshape((len(train_label), fbtrca.K*8*len(frange))), train_label)\n",
    "            result[sub,fold, 1] =svm.score(test_data.reshape((len(test_label), fbtrca.K*8*len(frange))), test_label)\n",
    "            \n",
    "            fbtrca = FBTRCA(Co, frange, optimizer='tdlda', ifG=False)\n",
    "            fbtrca.fit(train_set, train_label)\n",
    "            train_data = fbtrca.transform(train_set).reshape((len(train_label), fbtrca.K, 8, len(frange)))\n",
    "            test_data  = fbtrca.transform(test_set).reshape((len(test_label), fbtrca.K, 8, len(frange)))\n",
    "            svm   = SVC(kernel='rbf')\n",
    "            svm.fit(train_data.reshape((len(train_label), fbtrca.K*8*len(frange))), train_label)\n",
    "            result[sub,fold, 2] =svm.score(test_data.reshape((len(test_label), fbtrca.K*8*len(frange))), test_label)\n",
    "\n",
    "            fbtrca = FBTRCA(Co, frange, optimizer='tdlda', ifG=True)\n",
    "            fbtrca.fit(train_set, train_label)\n",
    "            train_data = fbtrca.transform(train_set).reshape((len(train_label), fbtrca.K, 8, len(frange)))\n",
    "            test_data  = fbtrca.transform(test_set).reshape((len(test_label), fbtrca.K, 8, len(frange)))\n",
    "            svm   = SVC(kernel='rbf')\n",
    "            svm.fit(train_data.reshape((len(train_label), fbtrca.K*8*len(frange))), train_label)\n",
    "            result[sub,fold, 3] =svm.score(test_data.reshape((len(test_label), fbtrca.K*8*len(frange))), test_label)"
   ]
  },
  {
   "cell_type": "code",
   "execution_count": 4,
   "metadata": {},
   "outputs": [
    {
     "data": {
      "text/plain": [
       "array([0.46253791, 0.45556356, 0.47139584, 0.47228209])"
      ]
     },
     "execution_count": 4,
     "metadata": {},
     "output_type": "execute_result"
    }
   ],
   "source": [
    "np.mean(result,axis=(0,1))"
   ]
  },
  {
   "cell_type": "code",
   "execution_count": 5,
   "metadata": {},
   "outputs": [
    {
     "name": "stderr",
     "output_type": "stream",
     "text": [
      "Sub0:: 100%|██████████| 5/5 [04:45<00:00, 57.00s/it]\n",
      "Sub1:: 100%|██████████| 5/5 [04:36<00:00, 55.25s/it]\n",
      "Sub2:: 100%|██████████| 5/5 [04:27<00:00, 53.45s/it]\n",
      "Sub3:: 100%|██████████| 5/5 [04:44<00:00, 56.99s/it]\n",
      "Sub4:: 100%|██████████| 5/5 [04:37<00:00, 55.43s/it]\n",
      "Sub5:: 100%|██████████| 5/5 [04:27<00:00, 53.47s/it]\n",
      "Sub6:: 100%|██████████| 5/5 [04:46<00:00, 57.39s/it]\n",
      "Sub7:: 100%|██████████| 5/5 [04:38<00:00, 55.65s/it]\n",
      "Sub8:: 100%|██████████| 5/5 [04:51<00:00, 58.38s/it]\n",
      "Sub9:: 100%|██████████| 5/5 [04:49<00:00, 57.88s/it]\n",
      "Sub10:: 100%|██████████| 5/5 [04:23<00:00, 52.76s/it]\n",
      "Sub11:: 100%|██████████| 5/5 [04:25<00:00, 53.16s/it]\n",
      "Sub12:: 100%|██████████| 5/5 [04:48<00:00, 57.79s/it]\n",
      "Sub13:: 100%|██████████| 5/5 [04:31<00:00, 54.23s/it]\n",
      "Sub14:: 100%|██████████| 5/5 [04:38<00:00, 55.63s/it]\n"
     ]
    }
   ],
   "source": [
    "if __name__==\"__main__\":\n",
    "    Fs = 256\n",
    "    Co = 41\n",
    "    num_fold = 5\n",
    "    num_subj = 15\n",
    "    max_freq = 10\n",
    "    step_bank= 2\n",
    "    frange = np.arange(step_bank,max_freq+1,step_bank)\n",
    "    channels = (np.int64([1,3,5,6,7,10,11,12,13,15,17,18,19,20,21,24,25,26,27,28,29,30,31,32,33,35,36,39,40,42,43,45,47,48,49,50,53,54,55,57,59])-1).tolist()\n",
    "    num_bank = int(max_freq/step_bank)\n",
    "    t  = [0, 2]\n",
    "    result = np.zeros([num_subj, num_fold, 4])\n",
    "\n",
    "    for sub in range(num_subj):\n",
    "        # dataset=Dataset(num_class=7,path='Dataset/DataBank/Dataset I/', channel=channels)\n",
    "        dataset=Dataset(num_class=7,path='Dataset/OData/Dataset I/', channel=channels)\n",
    "        dataset.load_data(sub, None)\n",
    "        dataset.divide_data(num_fold)\n",
    "        dataset.filter_data(fs=Fs, frange=frange, order=8, btype='lowpass')\n",
    "        for fold in tqdm(range(num_fold), desc=f'Sub{sub}:'):\n",
    "            train_set, train_label, test_set, test_label = dataset.retreive_data(\n",
    "                    class_index=[0,1,2,3,4,5,6], fold_index=fold, filter_index=np.arange(len(frange))+1)\n",
    "            train_set = train_set[:,:,int(t[0]*Fs):int(t[1]*Fs),:]\n",
    "            test_set  = test_set[:,:,int(t[0]*Fs):int(t[1]*Fs),:]\n",
    "\n",
    "            fbtrca = FBTRCA(Co, frange, optimizer='trca', ifG=False)\n",
    "            fbtrca.fit(train_set, train_label)\n",
    "            train_data = fbtrca.transform(train_set).reshape((len(train_label), fbtrca.K, 8, len(frange)))\n",
    "            test_data  = fbtrca.transform(test_set).reshape((len(test_label), fbtrca.K, 8, len(frange)))\n",
    "            svm   = SVC(kernel='rbf')\n",
    "            svm.fit(train_data.reshape((len(train_label), fbtrca.K*8*len(frange))), train_label)\n",
    "            result[sub,fold, 0] =svm.score(test_data.reshape((len(test_label), fbtrca.K*8*len(frange))), test_label)\n",
    "\n",
    "            fbtrca = FBTRCA(Co, frange, optimizer='trca', ifG=True)\n",
    "            fbtrca.fit(train_set, train_label)\n",
    "            train_data = fbtrca.transform(train_set).reshape((len(train_label), fbtrca.K, 8, len(frange)))\n",
    "            test_data  = fbtrca.transform(test_set).reshape((len(test_label), fbtrca.K, 8, len(frange)))\n",
    "            svm   = SVC(kernel='rbf')\n",
    "            svm.fit(train_data.reshape((len(train_label), fbtrca.K*8*len(frange))), train_label)\n",
    "            result[sub,fold, 1] =svm.score(test_data.reshape((len(test_label), fbtrca.K*8*len(frange))), test_label)\n",
    "            \n",
    "            fbtrca = FBTRCA(Co, frange, optimizer='tdlda', ifG=False)\n",
    "            fbtrca.fit(train_set, train_label)\n",
    "            train_data = fbtrca.transform(train_set).reshape((len(train_label), fbtrca.K, 8, len(frange)))\n",
    "            test_data  = fbtrca.transform(test_set).reshape((len(test_label), fbtrca.K, 8, len(frange)))\n",
    "            svm   = SVC(kernel='rbf')\n",
    "            svm.fit(train_data.reshape((len(train_label), fbtrca.K*8*len(frange))), train_label)\n",
    "            result[sub,fold, 2] =svm.score(test_data.reshape((len(test_label), fbtrca.K*8*len(frange))), test_label)\n",
    "\n",
    "            fbtrca = FBTRCA(Co, frange, optimizer='tdlda', ifG=True)\n",
    "            fbtrca.fit(train_set, train_label)\n",
    "            train_data = fbtrca.transform(train_set).reshape((len(train_label), fbtrca.K, 8, len(frange)))\n",
    "            test_data  = fbtrca.transform(test_set).reshape((len(test_label), fbtrca.K, 8, len(frange)))\n",
    "            svm   = SVC(kernel='rbf')\n",
    "            svm.fit(train_data.reshape((len(train_label), fbtrca.K*8*len(frange))), train_label)\n",
    "            result[sub,fold, 3] =svm.score(test_data.reshape((len(test_label), fbtrca.K*8*len(frange))), test_label)"
   ]
  },
  {
   "cell_type": "code",
   "execution_count": 6,
   "metadata": {},
   "outputs": [
    {
     "data": {
      "text/plain": [
       "array([0.46018007, 0.4562164 , 0.47207057, 0.46807405])"
      ]
     },
     "execution_count": 6,
     "metadata": {},
     "output_type": "execute_result"
    }
   ],
   "source": [
    "np.mean(result,axis=(0,1))"
   ]
  },
  {
   "cell_type": "code",
   "execution_count": 7,
   "metadata": {},
   "outputs": [
    {
     "name": "stderr",
     "output_type": "stream",
     "text": [
      "Sub0:: 100%|██████████| 5/5 [07:00<00:00, 84.11s/it]\n",
      "Sub1:: 100%|██████████| 5/5 [06:45<00:00, 81.06s/it]\n",
      "Sub2:: 100%|██████████| 5/5 [06:31<00:00, 78.24s/it]\n",
      "Sub3:: 100%|██████████| 5/5 [06:59<00:00, 83.86s/it]\n",
      "Sub4:: 100%|██████████| 5/5 [06:53<00:00, 82.77s/it]\n",
      "Sub5:: 100%|██████████| 5/5 [06:33<00:00, 78.76s/it]\n",
      "Sub6:: 100%|██████████| 5/5 [07:04<00:00, 84.84s/it]\n",
      "Sub7:: 100%|██████████| 5/5 [06:52<00:00, 82.42s/it]\n",
      "Sub8:: 100%|██████████| 5/5 [07:10<00:00, 86.18s/it]\n",
      "Sub9:: 100%|██████████| 5/5 [07:08<00:00, 85.67s/it]\n",
      "Sub10:: 100%|██████████| 5/5 [06:26<00:00, 77.36s/it]\n",
      "Sub11:: 100%|██████████| 5/5 [06:30<00:00, 78.03s/it]\n",
      "Sub12:: 100%|██████████| 5/5 [07:06<00:00, 85.31s/it]\n",
      "Sub13:: 100%|██████████| 5/5 [06:38<00:00, 79.76s/it]\n",
      "Sub14:: 100%|██████████| 5/5 [06:50<00:00, 82.04s/it]\n"
     ]
    }
   ],
   "source": [
    "if __name__==\"__main__\":\n",
    "    Fs = 256\n",
    "    Co = 51\n",
    "    num_fold = 5\n",
    "    num_subj = 15\n",
    "    max_freq = 10\n",
    "    step_bank= 2\n",
    "    frange = np.arange(step_bank,max_freq+1,step_bank)\n",
    "    channels = (np.int64([1,2,3,4,5,6,7,10,11,12,13,14,15,16,17,18,19,20,21,24,25,26,27,28,29,30,31,32,33,34,35,36,39,40,41,42,43,44,45,46,47,48,49,50,53,54,55,56,57,58,59])-1).tolist()\n",
    "    num_bank = int(max_freq/step_bank)\n",
    "    t  = [0, 2]\n",
    "    result = np.zeros([num_subj, num_fold, 4])\n",
    "\n",
    "    for sub in range(num_subj):\n",
    "        # dataset=Dataset(num_class=7,path='Dataset/DataBank/Dataset I/', channel=channels)\n",
    "        dataset=Dataset(num_class=7,path='Dataset/OData/Dataset I/', channel=channels)\n",
    "        dataset.load_data(sub, None)\n",
    "        dataset.divide_data(num_fold)\n",
    "        dataset.filter_data(fs=Fs, frange=frange, order=8, btype='lowpass')\n",
    "        for fold in tqdm(range(num_fold), desc=f'Sub{sub}:'):\n",
    "            train_set, train_label, test_set, test_label = dataset.retreive_data(\n",
    "                    class_index=[0,1,2,3,4,5,6], fold_index=fold, filter_index=np.arange(len(frange))+1)\n",
    "            train_set = train_set[:,:,int(t[0]*Fs):int(t[1]*Fs),:]\n",
    "            test_set  = test_set[:,:,int(t[0]*Fs):int(t[1]*Fs),:]\n",
    "\n",
    "            fbtrca = FBTRCA(Co, frange, optimizer='trca', ifG=False)\n",
    "            fbtrca.fit(train_set, train_label)\n",
    "            train_data = fbtrca.transform(train_set).reshape((len(train_label), fbtrca.K, 8, len(frange)))\n",
    "            test_data  = fbtrca.transform(test_set).reshape((len(test_label), fbtrca.K, 8, len(frange)))\n",
    "            svm   = SVC(kernel='rbf')\n",
    "            svm.fit(train_data.reshape((len(train_label), fbtrca.K*8*len(frange))), train_label)\n",
    "            result[sub,fold, 0] =svm.score(test_data.reshape((len(test_label), fbtrca.K*8*len(frange))), test_label)\n",
    "\n",
    "            fbtrca = FBTRCA(Co, frange, optimizer='trca', ifG=True)\n",
    "            fbtrca.fit(train_set, train_label)\n",
    "            train_data = fbtrca.transform(train_set).reshape((len(train_label), fbtrca.K, 8, len(frange)))\n",
    "            test_data  = fbtrca.transform(test_set).reshape((len(test_label), fbtrca.K, 8, len(frange)))\n",
    "            svm   = SVC(kernel='rbf')\n",
    "            svm.fit(train_data.reshape((len(train_label), fbtrca.K*8*len(frange))), train_label)\n",
    "            result[sub,fold, 1] =svm.score(test_data.reshape((len(test_label), fbtrca.K*8*len(frange))), test_label)\n",
    "            \n",
    "            fbtrca = FBTRCA(Co, frange, optimizer='tdlda', ifG=False)\n",
    "            fbtrca.fit(train_set, train_label)\n",
    "            train_data = fbtrca.transform(train_set).reshape((len(train_label), fbtrca.K, 8, len(frange)))\n",
    "            test_data  = fbtrca.transform(test_set).reshape((len(test_label), fbtrca.K, 8, len(frange)))\n",
    "            svm   = SVC(kernel='rbf')\n",
    "            svm.fit(train_data.reshape((len(train_label), fbtrca.K*8*len(frange))), train_label)\n",
    "            result[sub,fold, 2] =svm.score(test_data.reshape((len(test_label), fbtrca.K*8*len(frange))), test_label)\n",
    "\n",
    "            fbtrca = FBTRCA(Co, frange, optimizer='tdlda', ifG=True)\n",
    "            fbtrca.fit(train_set, train_label)\n",
    "            train_data = fbtrca.transform(train_set).reshape((len(train_label), fbtrca.K, 8, len(frange)))\n",
    "            test_data  = fbtrca.transform(test_set).reshape((len(test_label), fbtrca.K, 8, len(frange)))\n",
    "            svm   = SVC(kernel='rbf')\n",
    "            svm.fit(train_data.reshape((len(train_label), fbtrca.K*8*len(frange))), train_label)\n",
    "            result[sub,fold, 3] =svm.score(test_data.reshape((len(test_label), fbtrca.K*8*len(frange))), test_label)"
   ]
  },
  {
   "cell_type": "code",
   "execution_count": 8,
   "metadata": {},
   "outputs": [
    {
     "data": {
      "text/plain": [
       "array([0.45614452, 0.45405769, 0.46735979, 0.46336343])"
      ]
     },
     "execution_count": 8,
     "metadata": {},
     "output_type": "execute_result"
    }
   ],
   "source": [
    "np.mean(result,axis=(0,1))"
   ]
  },
  {
   "cell_type": "code",
   "execution_count": 9,
   "metadata": {},
   "outputs": [
    {
     "name": "stderr",
     "output_type": "stream",
     "text": [
      "Sub0:: 100%|██████████| 5/5 [09:26<00:00, 113.32s/it]\n",
      "Sub1:: 100%|██████████| 5/5 [09:11<00:00, 110.24s/it]\n",
      "Sub2:: 100%|██████████| 5/5 [08:52<00:00, 106.42s/it]\n",
      "Sub3:: 100%|██████████| 5/5 [09:29<00:00, 113.92s/it]\n",
      "Sub4:: 100%|██████████| 5/5 [09:17<00:00, 111.42s/it]\n",
      "Sub5:: 100%|██████████| 5/5 [08:54<00:00, 106.82s/it]\n",
      "Sub6:: 100%|██████████| 5/5 [09:35<00:00, 115.16s/it]\n",
      "Sub7:: 100%|██████████| 5/5 [09:19<00:00, 111.85s/it]\n",
      "Sub8:: 100%|██████████| 5/5 [09:46<00:00, 117.25s/it]\n",
      "Sub9:: 100%|██████████| 5/5 [09:42<00:00, 116.55s/it]\n",
      "Sub10:: 100%|██████████| 5/5 [08:46<00:00, 105.37s/it]\n",
      "Sub11:: 100%|██████████| 5/5 [08:51<00:00, 106.33s/it]\n",
      "Sub12:: 100%|██████████| 5/5 [09:38<00:00, 115.76s/it]\n",
      "Sub13:: 100%|██████████| 5/5 [09:03<00:00, 108.61s/it]\n",
      "Sub14:: 100%|██████████| 5/5 [09:17<00:00, 111.42s/it]\n"
     ]
    }
   ],
   "source": [
    "if __name__==\"__main__\":\n",
    "    Fs = 256\n",
    "    Co = 61\n",
    "    num_fold = 5\n",
    "    num_subj = 15\n",
    "    max_freq = 10\n",
    "    step_bank= 2\n",
    "    frange = np.arange(step_bank,max_freq+1,step_bank)\n",
    "    channels = (np.int64([1, 2, 3, 4, 5, 6, 7, 8, 9, 10, 11, 12, 13, 14, 15, 16, 17, 18, 19, 20, 21, 22, 23, 24, 25, 26, 27, 28, 29, 30, 31, 32, 33, 34, 35, 36, 37, 38, 39, 40, 41, 42, 43, 44, 45, 46, 47, 48, 49, 50, 51, 52, 53, 54, 55, 56, 57, 58, 59, 60, 61])-1).tolist()\n",
    "    num_bank = int(max_freq/step_bank)\n",
    "    t  = [0, 2]\n",
    "    result = np.zeros([num_subj, num_fold, 4])\n",
    "\n",
    "    for sub in range(num_subj):\n",
    "        # dataset=Dataset(num_class=7,path='Dataset/DataBank/Dataset I/', channel=channels)\n",
    "        dataset=Dataset(num_class=7,path='Dataset/OData/Dataset I/', channel=channels)\n",
    "        dataset.load_data(sub, None)\n",
    "        dataset.divide_data(num_fold)\n",
    "        dataset.filter_data(fs=Fs, frange=frange, order=8, btype='lowpass')\n",
    "        for fold in tqdm(range(num_fold), desc=f'Sub{sub}:'):\n",
    "            train_set, train_label, test_set, test_label = dataset.retreive_data(\n",
    "                    class_index=[0,1,2,3,4,5,6], fold_index=fold, filter_index=np.arange(len(frange))+1)\n",
    "            train_set = train_set[:,:,int(t[0]*Fs):int(t[1]*Fs),:]\n",
    "            test_set  = test_set[:,:,int(t[0]*Fs):int(t[1]*Fs),:]\n",
    "\n",
    "            fbtrca = FBTRCA(Co, frange, optimizer='trca', ifG=False)\n",
    "            fbtrca.fit(train_set, train_label)\n",
    "            train_data = fbtrca.transform(train_set).reshape((len(train_label), fbtrca.K, 8, len(frange)))\n",
    "            test_data  = fbtrca.transform(test_set).reshape((len(test_label), fbtrca.K, 8, len(frange)))\n",
    "            svm   = SVC(kernel='rbf')\n",
    "            svm.fit(train_data.reshape((len(train_label), fbtrca.K*8*len(frange))), train_label)\n",
    "            result[sub,fold, 0] =svm.score(test_data.reshape((len(test_label), fbtrca.K*8*len(frange))), test_label)\n",
    "\n",
    "            fbtrca = FBTRCA(Co, frange, optimizer='trca', ifG=True)\n",
    "            fbtrca.fit(train_set, train_label)\n",
    "            train_data = fbtrca.transform(train_set).reshape((len(train_label), fbtrca.K, 8, len(frange)))\n",
    "            test_data  = fbtrca.transform(test_set).reshape((len(test_label), fbtrca.K, 8, len(frange)))\n",
    "            svm   = SVC(kernel='rbf')\n",
    "            svm.fit(train_data.reshape((len(train_label), fbtrca.K*8*len(frange))), train_label)\n",
    "            result[sub,fold, 1] =svm.score(test_data.reshape((len(test_label), fbtrca.K*8*len(frange))), test_label)\n",
    "            \n",
    "            fbtrca = FBTRCA(Co, frange, optimizer='tdlda', ifG=False)\n",
    "            fbtrca.fit(train_set, train_label)\n",
    "            train_data = fbtrca.transform(train_set).reshape((len(train_label), fbtrca.K, 8, len(frange)))\n",
    "            test_data  = fbtrca.transform(test_set).reshape((len(test_label), fbtrca.K, 8, len(frange)))\n",
    "            svm   = SVC(kernel='rbf')\n",
    "            svm.fit(train_data.reshape((len(train_label), fbtrca.K*8*len(frange))), train_label)\n",
    "            result[sub,fold, 2] =svm.score(test_data.reshape((len(test_label), fbtrca.K*8*len(frange))), test_label)\n",
    "\n",
    "            fbtrca = FBTRCA(Co, frange, optimizer='tdlda', ifG=True)\n",
    "            fbtrca.fit(train_set, train_label)\n",
    "            train_data = fbtrca.transform(train_set).reshape((len(train_label), fbtrca.K, 8, len(frange)))\n",
    "            test_data  = fbtrca.transform(test_set).reshape((len(test_label), fbtrca.K, 8, len(frange)))\n",
    "            svm   = SVC(kernel='rbf')\n",
    "            svm.fit(train_data.reshape((len(train_label), fbtrca.K*8*len(frange))), train_label)\n",
    "            result[sub,fold, 3] =svm.score(test_data.reshape((len(test_label), fbtrca.K*8*len(frange))), test_label)"
   ]
  },
  {
   "cell_type": "code",
   "execution_count": 10,
   "metadata": {},
   "outputs": [
    {
     "data": {
      "text/plain": [
       "array([0.4584882 , 0.45399375, 0.47530588, 0.46382434])"
      ]
     },
     "execution_count": 10,
     "metadata": {},
     "output_type": "execute_result"
    }
   ],
   "source": [
    "np.mean(result,axis=(0,1))"
   ]
  }
 ],
 "metadata": {
  "kernelspec": {
   "display_name": "base",
   "language": "python",
   "name": "python3"
  },
  "language_info": {
   "codemirror_mode": {
    "name": "ipython",
    "version": 3
   },
   "file_extension": ".py",
   "mimetype": "text/x-python",
   "name": "python",
   "nbconvert_exporter": "python",
   "pygments_lexer": "ipython3",
   "version": "3.11.7"
  }
 },
 "nbformat": 4,
 "nbformat_minor": 2
}
