{
 "cells": [
  {
   "cell_type": "code",
   "execution_count": 10,
   "metadata": {},
   "outputs": [],
   "source": [
    "import numpy as np\n",
    "import os\n",
    "from sklearn.discriminant_analysis import LinearDiscriminantAnalysis as LDA\n",
    "from sklearn.svm import SVC\n",
    "from sklearn.pipeline import make_pipeline\n",
    "from tqdm import tqdm\n",
    "import matplotlib.pyplot as plt\n",
    "from h5py import File\n",
    "from scripts.dataset import Dataset\n",
    "from scripts.model import STRCA, FBTRCA\n",
    "from scipy.linalg import eigh\n",
    "from sklearn.model_selection import GridSearchCV\n",
    "from sklearn.base import BaseEstimator, ClassifierMixin"
   ]
  },
  {
   "cell_type": "code",
   "execution_count": 29,
   "metadata": {},
   "outputs": [
    {
     "name": "stderr",
     "output_type": "stream",
     "text": [
      "Sub0::  20%|██        | 1/5 [00:25<01:41, 25.29s/it]\n"
     ]
    },
    {
     "ename": "KeyboardInterrupt",
     "evalue": "",
     "output_type": "error",
     "traceback": [
      "\u001b[1;31m---------------------------------------------------------------------------\u001b[0m",
      "\u001b[1;31mKeyboardInterrupt\u001b[0m                         Traceback (most recent call last)",
      "Cell \u001b[1;32mIn[29], line 31\u001b[0m\n\u001b[0;32m     29\u001b[0m fbtrca \u001b[38;5;241m=\u001b[39m FBTRCA(Co, frange, optimizer\u001b[38;5;241m=\u001b[39m\u001b[38;5;124m'\u001b[39m\u001b[38;5;124mtdlda\u001b[39m\u001b[38;5;124m'\u001b[39m, ifG\u001b[38;5;241m=\u001b[39m\u001b[38;5;28;01mFalse\u001b[39;00m)  \n\u001b[0;32m     30\u001b[0m fbtrca\u001b[38;5;241m.\u001b[39mfit(train_set, train_label)\n\u001b[1;32m---> 31\u001b[0m train_data \u001b[38;5;241m=\u001b[39m fbtrca\u001b[38;5;241m.\u001b[39mtransform(train_set)\u001b[38;5;241m.\u001b[39mreshape((\u001b[38;5;28mlen\u001b[39m(train_label), \u001b[38;5;241m-\u001b[39m\u001b[38;5;241m1\u001b[39m))\n\u001b[0;32m     32\u001b[0m svm \u001b[38;5;241m=\u001b[39m SVC(kernel\u001b[38;5;241m=\u001b[39m\u001b[38;5;124m'\u001b[39m\u001b[38;5;124mrbf\u001b[39m\u001b[38;5;124m'\u001b[39m)\n\u001b[0;32m     33\u001b[0m svm\u001b[38;5;241m.\u001b[39mfit(train_data, train_label)\n",
      "File \u001b[1;32m~\\AppData\\Roaming\\Python\\Python311\\site-packages\\sklearn\\utils\\_set_output.py:157\u001b[0m, in \u001b[0;36m_wrap_method_output.<locals>.wrapped\u001b[1;34m(self, X, *args, **kwargs)\u001b[0m\n\u001b[0;32m    155\u001b[0m \u001b[38;5;129m@wraps\u001b[39m(f)\n\u001b[0;32m    156\u001b[0m \u001b[38;5;28;01mdef\u001b[39;00m \u001b[38;5;21mwrapped\u001b[39m(\u001b[38;5;28mself\u001b[39m, X, \u001b[38;5;241m*\u001b[39margs, \u001b[38;5;241m*\u001b[39m\u001b[38;5;241m*\u001b[39mkwargs):\n\u001b[1;32m--> 157\u001b[0m     data_to_wrap \u001b[38;5;241m=\u001b[39m f(\u001b[38;5;28mself\u001b[39m, X, \u001b[38;5;241m*\u001b[39margs, \u001b[38;5;241m*\u001b[39m\u001b[38;5;241m*\u001b[39mkwargs)\n\u001b[0;32m    158\u001b[0m     \u001b[38;5;28;01mif\u001b[39;00m \u001b[38;5;28misinstance\u001b[39m(data_to_wrap, \u001b[38;5;28mtuple\u001b[39m):\n\u001b[0;32m    159\u001b[0m         \u001b[38;5;66;03m# only wrap the first output for cross decomposition\u001b[39;00m\n\u001b[0;32m    160\u001b[0m         return_tuple \u001b[38;5;241m=\u001b[39m (\n\u001b[0;32m    161\u001b[0m             _wrap_data_with_container(method, data_to_wrap[\u001b[38;5;241m0\u001b[39m], X, \u001b[38;5;28mself\u001b[39m),\n\u001b[0;32m    162\u001b[0m             \u001b[38;5;241m*\u001b[39mdata_to_wrap[\u001b[38;5;241m1\u001b[39m:],\n\u001b[0;32m    163\u001b[0m         )\n",
      "File \u001b[1;32mg:\\Example\\Example\\scripts\\model.py:223\u001b[0m, in \u001b[0;36mFBTRCA.transform\u001b[1;34m(self, X)\u001b[0m\n\u001b[0;32m    221\u001b[0m pattern \u001b[38;5;241m=\u001b[39m np\u001b[38;5;241m.\u001b[39mzeros((X\u001b[38;5;241m.\u001b[39mshape[\u001b[38;5;241m0\u001b[39m], \u001b[38;5;28mself\u001b[39m\u001b[38;5;241m.\u001b[39mK\u001b[38;5;241m*\u001b[39m\u001b[38;5;241m8\u001b[39m, \u001b[38;5;28mlen\u001b[39m(\u001b[38;5;28mself\u001b[39m\u001b[38;5;241m.\u001b[39mfrequencies)))\n\u001b[0;32m    222\u001b[0m \u001b[38;5;28;01mfor\u001b[39;00m i, _ \u001b[38;5;129;01min\u001b[39;00m \u001b[38;5;28menumerate\u001b[39m(\u001b[38;5;28mself\u001b[39m\u001b[38;5;241m.\u001b[39mfrequencies):\n\u001b[1;32m--> 223\u001b[0m     pattern[:,:,i] \u001b[38;5;241m=\u001b[39m \u001b[38;5;28mself\u001b[39m\u001b[38;5;241m.\u001b[39mstrcas[i]\u001b[38;5;241m.\u001b[39mtransform(X[:,:,:,i])\n\u001b[0;32m    224\u001b[0m \u001b[38;5;28;01mreturn\u001b[39;00m pattern\u001b[38;5;241m.\u001b[39mreshape(X\u001b[38;5;241m.\u001b[39mshape[\u001b[38;5;241m0\u001b[39m], \u001b[38;5;28mself\u001b[39m\u001b[38;5;241m.\u001b[39mK\u001b[38;5;241m*\u001b[39m\u001b[38;5;241m8\u001b[39m\u001b[38;5;241m*\u001b[39m\u001b[38;5;28mlen\u001b[39m(\u001b[38;5;28mself\u001b[39m\u001b[38;5;241m.\u001b[39mfrequencies))\n",
      "File \u001b[1;32m~\\AppData\\Roaming\\Python\\Python311\\site-packages\\sklearn\\utils\\_set_output.py:157\u001b[0m, in \u001b[0;36m_wrap_method_output.<locals>.wrapped\u001b[1;34m(self, X, *args, **kwargs)\u001b[0m\n\u001b[0;32m    155\u001b[0m \u001b[38;5;129m@wraps\u001b[39m(f)\n\u001b[0;32m    156\u001b[0m \u001b[38;5;28;01mdef\u001b[39;00m \u001b[38;5;21mwrapped\u001b[39m(\u001b[38;5;28mself\u001b[39m, X, \u001b[38;5;241m*\u001b[39margs, \u001b[38;5;241m*\u001b[39m\u001b[38;5;241m*\u001b[39mkwargs):\n\u001b[1;32m--> 157\u001b[0m     data_to_wrap \u001b[38;5;241m=\u001b[39m f(\u001b[38;5;28mself\u001b[39m, X, \u001b[38;5;241m*\u001b[39margs, \u001b[38;5;241m*\u001b[39m\u001b[38;5;241m*\u001b[39mkwargs)\n\u001b[0;32m    158\u001b[0m     \u001b[38;5;28;01mif\u001b[39;00m \u001b[38;5;28misinstance\u001b[39m(data_to_wrap, \u001b[38;5;28mtuple\u001b[39m):\n\u001b[0;32m    159\u001b[0m         \u001b[38;5;66;03m# only wrap the first output for cross decomposition\u001b[39;00m\n\u001b[0;32m    160\u001b[0m         return_tuple \u001b[38;5;241m=\u001b[39m (\n\u001b[0;32m    161\u001b[0m             _wrap_data_with_container(method, data_to_wrap[\u001b[38;5;241m0\u001b[39m], X, \u001b[38;5;28mself\u001b[39m),\n\u001b[0;32m    162\u001b[0m             \u001b[38;5;241m*\u001b[39mdata_to_wrap[\u001b[38;5;241m1\u001b[39m:],\n\u001b[0;32m    163\u001b[0m         )\n",
      "File \u001b[1;32mg:\\Example\\Example\\scripts\\model.py:135\u001b[0m, in \u001b[0;36mSTRCA.transform\u001b[1;34m(self, X, ifG)\u001b[0m\n\u001b[0;32m    133\u001b[0m         mx \u001b[38;5;241m=\u001b[39m \u001b[38;5;28mself\u001b[39m\u001b[38;5;241m.\u001b[39mM[c,:,:]\u001b[38;5;241m-\u001b[39mG\n\u001b[0;32m    134\u001b[0m         mx_\u001b[38;5;241m=\u001b[39m (\u001b[38;5;28mself\u001b[39m\u001b[38;5;241m.\u001b[39mM\u001b[38;5;241m.\u001b[39msum(\u001b[38;5;241m0\u001b[39m)\u001b[38;5;241m-\u001b[39m\u001b[38;5;28mself\u001b[39m\u001b[38;5;241m.\u001b[39mM[c,:,:])\u001b[38;5;241m/\u001b[39m(\u001b[38;5;28mself\u001b[39m\u001b[38;5;241m.\u001b[39mK\u001b[38;5;241m-\u001b[39m\u001b[38;5;241m1\u001b[39m)\u001b[38;5;241m-\u001b[39mG\n\u001b[1;32m--> 135\u001b[0m         pattern[i,c,:]\u001b[38;5;241m=\u001b[39m\u001b[38;5;28mself\u001b[39m\u001b[38;5;241m.\u001b[39mcorrfea(x\u001b[38;5;241m.\u001b[39mT, mx\u001b[38;5;241m.\u001b[39mT, mx_\u001b[38;5;241m.\u001b[39mT, W)\n\u001b[0;32m    136\u001b[0m \u001b[38;5;28;01mreturn\u001b[39;00m pattern\u001b[38;5;241m.\u001b[39mreshape((X\u001b[38;5;241m.\u001b[39mshape[\u001b[38;5;241m0\u001b[39m], \u001b[38;5;241m-\u001b[39m\u001b[38;5;241m1\u001b[39m))\n",
      "File \u001b[1;32mg:\\Example\\Example\\scripts\\model.py:173\u001b[0m, in \u001b[0;36mSTRCA.corrfea\u001b[1;34m(self, x, mx, mx_, W)\u001b[0m\n\u001b[0;32m    171\u001b[0m p \u001b[38;5;241m=\u001b[39m np\u001b[38;5;241m.\u001b[39mzeros((\u001b[38;5;241m2\u001b[39m,\u001b[38;5;241m4\u001b[39m))\n\u001b[0;32m    172\u001b[0m p[\u001b[38;5;241m0\u001b[39m, \u001b[38;5;241m0\u001b[39m] \u001b[38;5;241m=\u001b[39m \u001b[38;5;28mself\u001b[39m\u001b[38;5;241m.\u001b[39mpearcorr2d(x, mx)\n\u001b[1;32m--> 173\u001b[0m p[\u001b[38;5;241m0\u001b[39m, \u001b[38;5;241m1\u001b[39m] \u001b[38;5;241m=\u001b[39m \u001b[38;5;28mself\u001b[39m\u001b[38;5;241m.\u001b[39mpearcorr2d(x\u001b[38;5;129m@W\u001b[39m, mx\u001b[38;5;129m@W\u001b[39m) \u001b[38;5;66;03m### 1\u001b[39;00m\n\u001b[0;32m    174\u001b[0m \u001b[38;5;66;03m# A, B    = self.canoncorr(x, mx)\u001b[39;00m\n\u001b[0;32m    175\u001b[0m \u001b[38;5;66;03m# p[0, 2] = self.pearcorr2d(x@A, mx@A)\u001b[39;00m\n\u001b[0;32m    176\u001b[0m \u001b[38;5;66;03m# p[0, 3] = self.pearcorr2d(x@B, mx@B) ### 3\u001b[39;00m\n\u001b[0;32m    178\u001b[0m p[\u001b[38;5;241m1\u001b[39m, \u001b[38;5;241m0\u001b[39m] \u001b[38;5;241m=\u001b[39m \u001b[38;5;28mself\u001b[39m\u001b[38;5;241m.\u001b[39mpearcorr2d(x\u001b[38;5;241m-\u001b[39mmx_, mx\u001b[38;5;241m-\u001b[39mmx_)\n",
      "File \u001b[1;32mg:\\Example\\Example\\scripts\\model.py:186\u001b[0m, in \u001b[0;36mSTRCA.pearcorr2d\u001b[1;34m(input1, input2)\u001b[0m\n\u001b[0;32m    180\u001b[0m     \u001b[38;5;66;03m# A, B    = self.canoncorr(x-mx_, mx-mx_)\u001b[39;00m\n\u001b[0;32m    181\u001b[0m     \u001b[38;5;66;03m# p[1, 2] = self.pearcorr2d((x-mx_)@A, (mx-mx_)@A) ### 6\u001b[39;00m\n\u001b[0;32m    182\u001b[0m     \u001b[38;5;66;03m# p[1, 3] = self.pearcorr2d((x-mx_)@B, (mx-mx_)@B)\u001b[39;00m\n\u001b[0;32m    184\u001b[0m     \u001b[38;5;28;01mreturn\u001b[39;00m p\u001b[38;5;241m.\u001b[39mravel()\n\u001b[1;32m--> 186\u001b[0m \u001b[38;5;129m@staticmethod\u001b[39m\n\u001b[0;32m    187\u001b[0m \u001b[38;5;28;01mdef\u001b[39;00m \u001b[38;5;21mpearcorr2d\u001b[39m(input1, input2):\n\u001b[0;32m    188\u001b[0m     \u001b[38;5;66;03m# input1: nchn, nspl\u001b[39;00m\n\u001b[0;32m    189\u001b[0m     \u001b[38;5;66;03m# input2: nchn, nspl\u001b[39;00m\n\u001b[0;32m    190\u001b[0m     input1 \u001b[38;5;241m=\u001b[39m input1\u001b[38;5;241m-\u001b[39mnp\u001b[38;5;241m.\u001b[39mmean(input1, axis\u001b[38;5;241m=\u001b[39m(\u001b[38;5;241m0\u001b[39m,\u001b[38;5;241m1\u001b[39m))\n\u001b[0;32m    191\u001b[0m     input2 \u001b[38;5;241m=\u001b[39m input2\u001b[38;5;241m-\u001b[39mnp\u001b[38;5;241m.\u001b[39mmean(input1, axis\u001b[38;5;241m=\u001b[39m(\u001b[38;5;241m0\u001b[39m,\u001b[38;5;241m1\u001b[39m))\n",
      "\u001b[1;31mKeyboardInterrupt\u001b[0m: "
     ]
    }
   ],
   "source": [
    "if __name__ == \"__main__\":\n",
    "    Fs = 256\n",
    "    num_fold = 5\n",
    "    num_subj = 15\n",
    "    frange = np.array([2, 4, 6, 8, 10])\n",
    "    channels = (np.int64([1, 3, 5, 15, 29, 30, 31, 45, 55, 57, 59]) - 1).tolist()\n",
    "    t = [0, 2]\n",
    "    result = np.zeros([num_subj, num_fold, 4])\n",
    "\n",
    "    Co_values = np.arange(1, 12)  \n",
    "    param_grid = {'Co': Co_values}\n",
    "\n",
    "    for sub in range(num_subj):\n",
    "        # dataset=Dataset(num_class=7,path='Dataset/DataBank/Dataset I/', channel=channels)\n",
    "        dataset=Dataset(num_class=7,path='Dataset/OData/Dataset I/', channel=channels)\n",
    "        dataset.load_data(sub, None)\n",
    "        dataset.divide_data(num_fold)\n",
    "        dataset.filter_data(fs=Fs, frange=frange, order=8, btype='lowpass')\n",
    "        for fold in tqdm(range(num_fold), desc=f'Sub{sub}:'):\n",
    "            train_set, train_label, test_set, test_label = dataset.retreive_data(\n",
    "                    class_index=[0,1,2,3,4,5,6], fold_index=fold, filter_index=np.arange(len(frange))+1)\n",
    "            train_set = train_set[:,:,int(t[0]*Fs):int(t[1]*Fs),:]\n",
    "            test_set  = test_set[:,:,int(t[0]*Fs):int(t[1]*Fs),:]\n",
    "\n",
    "            \n",
    "            best_score = 0\n",
    "            best_Co = None\n",
    "            for Co in Co_values:\n",
    "                fbtrca = FBTRCA(Co, frange, optimizer='tdlda', ifG=False)  \n",
    "                fbtrca.fit(train_set, train_label)\n",
    "                train_data = fbtrca.transform(train_set).reshape((len(train_label), -1))\n",
    "                svm = SVC(kernel='rbf')\n",
    "                svm.fit(train_data, train_label)\n",
    "                score = svm.score(train_data, train_label)  \n",
    "                if score > best_score:\n",
    "                    best_score = score\n",
    "                    best_Co = Co\n",
    "\n",
    "            \n",
    "            fbtrca = FBTRCA(best_Co, frange, optimizer='tdlda', ifG=False)\n",
    "            fbtrca.fit(train_set, train_label)\n",
    "            train_data = fbtrca.transform(train_set).reshape((len(train_label), fbtrca.K, 8, len(frange)))\n",
    "            test_data = fbtrca.transform(test_set).reshape((len(test_label), fbtrca.K, 8, len(frange)))\n",
    "            svm = SVC(kernel='rbf')\n",
    "            svm.fit(train_data.reshape((len(train_label), fbtrca.K * 8 * len(frange))), train_label)\n",
    "            result[sub, fold, 2] = svm.score(test_data.reshape((len(test_label), fbtrca.K * 8 * len(frange))), test_label)\n",
    "\n",
    "            \n",
    "            fbtrca = FBTRCA(best_Co, frange, optimizer='tdlda', ifG=True)\n",
    "            fbtrca.fit(train_set, train_label)\n",
    "            train_data = fbtrca.transform(train_set).reshape((len(train_label), fbtrca.K, 8, len(frange)))\n",
    "            test_data = fbtrca.transform(test_set).reshape((len(test_label), fbtrca.K, 8, len(frange)))\n",
    "            svm = SVC(kernel='rbf')\n",
    "            svm.fit(train_data.reshape((len(train_label), fbtrca.K * 8 * len(frange))), train_label)\n",
    "            result[sub, fold, 3] = svm.score(test_data.reshape((len(test_label), fbtrca.K * 8 * len(frange))), test_label)\n",
    "\n",
    "    \n",
    "    print(\"最佳平均准确率 ifG=False:\", np.mean(result[:, :, 2], axis=(0, 1)))\n",
    "    print(\"最佳平均准确率 ifG=True:\", np.mean(result[:, :, 3], axis=(0, 1)))"
   ]
  },
  {
   "cell_type": "code",
   "execution_count": 21,
   "metadata": {},
   "outputs": [
    {
     "data": {
      "text/plain": [
       "array([0.        , 0.        , 0.4460796 , 0.45153193])"
      ]
     },
     "execution_count": 21,
     "metadata": {},
     "output_type": "execute_result"
    }
   ],
   "source": [
    "np.mean(result,axis=(0,1))"
   ]
  },
  {
   "cell_type": "code",
   "execution_count": 3,
   "metadata": {},
   "outputs": [
    {
     "name": "stderr",
     "output_type": "stream",
     "text": [
      "Sub0:: 100%|██████████| 5/5 [01:44<00:00, 20.99s/it]\n",
      "Sub1:: 100%|██████████| 5/5 [01:40<00:00, 20.16s/it]\n",
      "Sub2:: 100%|██████████| 5/5 [01:38<00:00, 19.61s/it]\n",
      "Sub3:: 100%|██████████| 5/5 [01:45<00:00, 21.12s/it]\n",
      "Sub4:: 100%|██████████| 5/5 [01:42<00:00, 20.58s/it]\n",
      "Sub5:: 100%|██████████| 5/5 [01:38<00:00, 19.75s/it]\n",
      "Sub6:: 100%|██████████| 5/5 [01:46<00:00, 21.24s/it]\n",
      "Sub7:: 100%|██████████| 5/5 [01:42<00:00, 20.46s/it]\n",
      "Sub8:: 100%|██████████| 5/5 [01:47<00:00, 21.56s/it]\n",
      "Sub9:: 100%|██████████| 5/5 [01:46<00:00, 21.31s/it]\n",
      "Sub10:: 100%|██████████| 5/5 [01:36<00:00, 19.28s/it]\n",
      "Sub11:: 100%|██████████| 5/5 [01:36<00:00, 19.36s/it]\n",
      "Sub12:: 100%|██████████| 5/5 [01:45<00:00, 21.15s/it]\n",
      "Sub13:: 100%|██████████| 5/5 [01:39<00:00, 19.85s/it]\n",
      "Sub14:: 100%|██████████| 5/5 [01:41<00:00, 20.36s/it]\n"
     ]
    }
   ],
   "source": [
    "if __name__==\"__main__\":\n",
    "    Fs = 256\n",
    "    Co = 21\n",
    "    num_fold = 5\n",
    "    num_subj = 15\n",
    "    max_freq = 10\n",
    "    step_bank= 2\n",
    "    frange = np.arange(step_bank,max_freq+1,step_bank)\n",
    "    channels = (np.int64([1,3,5,12,15,18,20,21,24,25,29,30,31,35,36,39,40,45,55,57,59])-1).tolist()\n",
    "    num_bank = int(max_freq/step_bank)\n",
    "    t  = [0, 2]\n",
    "    result = np.zeros([num_subj, num_fold, 4])\n",
    "\n",
    "    for sub in range(num_subj):\n",
    "        # dataset=Dataset(num_class=7,path='Dataset/DataBank/Dataset I/', channel=channels)\n",
    "        dataset=Dataset(num_class=7,path='Dataset/OData/Dataset I/', channel=channels)\n",
    "        dataset.load_data(sub, None)\n",
    "        dataset.divide_data(num_fold)\n",
    "        dataset.filter_data(fs=Fs, frange=frange, order=8, btype='lowpass')\n",
    "        for fold in tqdm(range(num_fold), desc=f'Sub{sub}:'):\n",
    "            train_set, train_label, test_set, test_label = dataset.retreive_data(\n",
    "                    class_index=[0,1,2,3,4,5,6], fold_index=fold, filter_index=np.arange(len(frange))+1)\n",
    "            train_set = train_set[:,:,int(t[0]*Fs):int(t[1]*Fs),:]\n",
    "            test_set  = test_set[:,:,int(t[0]*Fs):int(t[1]*Fs),:]\n",
    "\n",
    "            fbtrca = FBTRCA(Co, frange, optimizer='trca', ifG=False)\n",
    "            fbtrca.fit(train_set, train_label)\n",
    "            train_data = fbtrca.transform(train_set).reshape((len(train_label), fbtrca.K, 8, len(frange)))\n",
    "            test_data  = fbtrca.transform(test_set).reshape((len(test_label), fbtrca.K, 8, len(frange)))\n",
    "            svm   = SVC(kernel='rbf')\n",
    "            svm.fit(train_data.reshape((len(train_label), fbtrca.K*8*len(frange))), train_label)\n",
    "            result[sub,fold, 0] =svm.score(test_data.reshape((len(test_label), fbtrca.K*8*len(frange))), test_label)\n",
    "\n",
    "            fbtrca = FBTRCA(Co, frange, optimizer='trca', ifG=True)\n",
    "            fbtrca.fit(train_set, train_label)\n",
    "            train_data = fbtrca.transform(train_set).reshape((len(train_label), fbtrca.K, 8, len(frange)))\n",
    "            test_data  = fbtrca.transform(test_set).reshape((len(test_label), fbtrca.K, 8, len(frange)))\n",
    "            svm   = SVC(kernel='rbf')\n",
    "            svm.fit(train_data.reshape((len(train_label), fbtrca.K*8*len(frange))), train_label)\n",
    "            result[sub,fold, 1] =svm.score(test_data.reshape((len(test_label), fbtrca.K*8*len(frange))), test_label)\n",
    "            \n",
    "            fbtrca = FBTRCA(Co, frange, optimizer='tdlda', ifG=False)\n",
    "            fbtrca.fit(train_set, train_label)\n",
    "            train_data = fbtrca.transform(train_set).reshape((len(train_label), fbtrca.K, 8, len(frange)))\n",
    "            test_data  = fbtrca.transform(test_set).reshape((len(test_label), fbtrca.K, 8, len(frange)))\n",
    "            svm   = SVC(kernel='rbf')\n",
    "            svm.fit(train_data.reshape((len(train_label), fbtrca.K*8*len(frange))), train_label)\n",
    "            result[sub,fold, 2] =svm.score(test_data.reshape((len(test_label), fbtrca.K*8*len(frange))), test_label)\n",
    "\n",
    "            fbtrca = FBTRCA(Co, frange, optimizer='tdlda', ifG=True)\n",
    "            fbtrca.fit(train_set, train_label)\n",
    "            train_data = fbtrca.transform(train_set).reshape((len(train_label), fbtrca.K, 8, len(frange)))\n",
    "            test_data  = fbtrca.transform(test_set).reshape((len(test_label), fbtrca.K, 8, len(frange)))\n",
    "            svm   = SVC(kernel='rbf')\n",
    "            svm.fit(train_data.reshape((len(train_label), fbtrca.K*8*len(frange))), train_label)\n",
    "            result[sub,fold, 3] =svm.score(test_data.reshape((len(test_label), fbtrca.K*8*len(frange))), test_label)"
   ]
  },
  {
   "cell_type": "code",
   "execution_count": 4,
   "metadata": {},
   "outputs": [
    {
     "data": {
      "text/plain": [
       "array([0.44732911, 0.44591979, 0.46107003, 0.45626527])"
      ]
     },
     "execution_count": 4,
     "metadata": {},
     "output_type": "execute_result"
    }
   ],
   "source": [
    "np.mean(result,axis=(0,1))"
   ]
  },
  {
   "cell_type": "code",
   "execution_count": 3,
   "metadata": {},
   "outputs": [
    {
     "name": "stderr",
     "output_type": "stream",
     "text": [
      "Sub0:: 100%|██████████| 5/5 [02:58<00:00, 35.64s/it]\n",
      "Sub1:: 100%|██████████| 5/5 [02:50<00:00, 34.17s/it]\n",
      "Sub2:: 100%|██████████| 5/5 [02:45<00:00, 33.04s/it]\n",
      "Sub3:: 100%|██████████| 5/5 [02:55<00:00, 35.11s/it]\n",
      "Sub4:: 100%|██████████| 5/5 [02:51<00:00, 34.29s/it]\n",
      "Sub5:: 100%|██████████| 5/5 [02:45<00:00, 33.10s/it]\n",
      "Sub6:: 100%|██████████| 5/5 [02:56<00:00, 35.36s/it]\n",
      "Sub7:: 100%|██████████| 5/5 [02:51<00:00, 34.35s/it]\n",
      "Sub8:: 100%|██████████| 5/5 [03:00<00:00, 36.04s/it]\n",
      "Sub9:: 100%|██████████| 5/5 [02:58<00:00, 35.77s/it]\n",
      "Sub10:: 100%|██████████| 5/5 [02:42<00:00, 32.40s/it]\n",
      "Sub11:: 100%|██████████| 5/5 [02:43<00:00, 32.66s/it]\n",
      "Sub12:: 100%|██████████| 5/5 [02:58<00:00, 35.61s/it]\n",
      "Sub13:: 100%|██████████| 5/5 [02:46<00:00, 33.35s/it]\n",
      "Sub14:: 100%|██████████| 5/5 [02:51<00:00, 34.22s/it]\n"
     ]
    }
   ],
   "source": [
    "if __name__==\"__main__\":\n",
    "    Fs = 256\n",
    "    Co = 31\n",
    "    num_fold = 5\n",
    "    num_subj = 15\n",
    "    max_freq = 10\n",
    "    step_bank= 2\n",
    "    frange = np.arange(step_bank,max_freq+1,step_bank)\n",
    "    channels = (np.int64([1,3,5,6,11,12,13,15,17,18,20,21,24,25,27,29,30,31,33,35,36,39,40,42,43,45,47,48,55,57,59])-1).tolist()\n",
    "    num_bank = int(max_freq/step_bank)\n",
    "    t  = [0, 2]\n",
    "    result = np.zeros([num_subj, num_fold, 4])\n",
    "\n",
    "    for sub in range(num_subj):\n",
    "        # dataset=Dataset(num_class=7,path='Dataset/DataBank/Dataset I/', channel=channels)\n",
    "        dataset=Dataset(num_class=7,path='Dataset/OData/Dataset I/', channel=channels)\n",
    "        dataset.load_data(sub, None)\n",
    "        dataset.divide_data(num_fold)\n",
    "        dataset.filter_data(fs=Fs, frange=frange, order=8, btype='lowpass')\n",
    "        for fold in tqdm(range(num_fold), desc=f'Sub{sub}:'):\n",
    "            train_set, train_label, test_set, test_label = dataset.retreive_data(\n",
    "                    class_index=[0,1,2,3,4,5,6], fold_index=fold, filter_index=np.arange(len(frange))+1)\n",
    "            train_set = train_set[:,:,int(t[0]*Fs):int(t[1]*Fs),:]\n",
    "            test_set  = test_set[:,:,int(t[0]*Fs):int(t[1]*Fs),:]\n",
    "\n",
    "            fbtrca = FBTRCA(Co, frange, optimizer='trca', ifG=False)\n",
    "            fbtrca.fit(train_set, train_label)\n",
    "            train_data = fbtrca.transform(train_set).reshape((len(train_label), fbtrca.K, 8, len(frange)))\n",
    "            test_data  = fbtrca.transform(test_set).reshape((len(test_label), fbtrca.K, 8, len(frange)))\n",
    "            svm   = SVC(kernel='rbf')\n",
    "            svm.fit(train_data.reshape((len(train_label), fbtrca.K*8*len(frange))), train_label)\n",
    "            result[sub,fold, 0] =svm.score(test_data.reshape((len(test_label), fbtrca.K*8*len(frange))), test_label)\n",
    "\n",
    "            fbtrca = FBTRCA(Co, frange, optimizer='trca', ifG=True)\n",
    "            fbtrca.fit(train_set, train_label)\n",
    "            train_data = fbtrca.transform(train_set).reshape((len(train_label), fbtrca.K, 8, len(frange)))\n",
    "            test_data  = fbtrca.transform(test_set).reshape((len(test_label), fbtrca.K, 8, len(frange)))\n",
    "            svm   = SVC(kernel='rbf')\n",
    "            svm.fit(train_data.reshape((len(train_label), fbtrca.K*8*len(frange))), train_label)\n",
    "            result[sub,fold, 1] =svm.score(test_data.reshape((len(test_label), fbtrca.K*8*len(frange))), test_label)\n",
    "            \n",
    "            fbtrca = FBTRCA(Co, frange, optimizer='tdlda', ifG=False)\n",
    "            fbtrca.fit(train_set, train_label)\n",
    "            train_data = fbtrca.transform(train_set).reshape((len(train_label), fbtrca.K, 8, len(frange)))\n",
    "            test_data  = fbtrca.transform(test_set).reshape((len(test_label), fbtrca.K, 8, len(frange)))\n",
    "            svm   = SVC(kernel='rbf')\n",
    "            svm.fit(train_data.reshape((len(train_label), fbtrca.K*8*len(frange))), train_label)\n",
    "            result[sub,fold, 2] =svm.score(test_data.reshape((len(test_label), fbtrca.K*8*len(frange))), test_label)\n",
    "\n",
    "            fbtrca = FBTRCA(Co, frange, optimizer='tdlda', ifG=True)\n",
    "            fbtrca.fit(train_set, train_label)\n",
    "            train_data = fbtrca.transform(train_set).reshape((len(train_label), fbtrca.K, 8, len(frange)))\n",
    "            test_data  = fbtrca.transform(test_set).reshape((len(test_label), fbtrca.K, 8, len(frange)))\n",
    "            svm   = SVC(kernel='rbf')\n",
    "            svm.fit(train_data.reshape((len(train_label), fbtrca.K*8*len(frange))), train_label)\n",
    "            result[sub,fold, 3] =svm.score(test_data.reshape((len(test_label), fbtrca.K*8*len(frange))), test_label)"
   ]
  },
  {
   "cell_type": "code",
   "execution_count": 4,
   "metadata": {},
   "outputs": [
    {
     "data": {
      "text/plain": [
       "array([0.46253791, 0.45556356, 0.47139584, 0.47228209])"
      ]
     },
     "execution_count": 4,
     "metadata": {},
     "output_type": "execute_result"
    }
   ],
   "source": [
    "np.mean(result,axis=(0,1))"
   ]
  },
  {
   "cell_type": "code",
   "execution_count": 5,
   "metadata": {},
   "outputs": [
    {
     "name": "stderr",
     "output_type": "stream",
     "text": [
      "Sub0:: 100%|██████████| 5/5 [04:45<00:00, 57.00s/it]\n",
      "Sub1:: 100%|██████████| 5/5 [04:36<00:00, 55.25s/it]\n",
      "Sub2:: 100%|██████████| 5/5 [04:27<00:00, 53.45s/it]\n",
      "Sub3:: 100%|██████████| 5/5 [04:44<00:00, 56.99s/it]\n",
      "Sub4:: 100%|██████████| 5/5 [04:37<00:00, 55.43s/it]\n",
      "Sub5:: 100%|██████████| 5/5 [04:27<00:00, 53.47s/it]\n",
      "Sub6:: 100%|██████████| 5/5 [04:46<00:00, 57.39s/it]\n",
      "Sub7:: 100%|██████████| 5/5 [04:38<00:00, 55.65s/it]\n",
      "Sub8:: 100%|██████████| 5/5 [04:51<00:00, 58.38s/it]\n",
      "Sub9:: 100%|██████████| 5/5 [04:49<00:00, 57.88s/it]\n",
      "Sub10:: 100%|██████████| 5/5 [04:23<00:00, 52.76s/it]\n",
      "Sub11:: 100%|██████████| 5/5 [04:25<00:00, 53.16s/it]\n",
      "Sub12:: 100%|██████████| 5/5 [04:48<00:00, 57.79s/it]\n",
      "Sub13:: 100%|██████████| 5/5 [04:31<00:00, 54.23s/it]\n",
      "Sub14:: 100%|██████████| 5/5 [04:38<00:00, 55.63s/it]\n"
     ]
    }
   ],
   "source": [
    "if __name__==\"__main__\":\n",
    "    Fs = 256\n",
    "    Co = 41\n",
    "    num_fold = 5\n",
    "    num_subj = 15\n",
    "    max_freq = 10\n",
    "    step_bank= 2\n",
    "    frange = np.arange(step_bank,max_freq+1,step_bank)\n",
    "    channels = (np.int64([1,3,5,6,7,10,11,12,13,15,17,18,19,20,21,24,25,26,27,28,29,30,31,32,33,35,36,39,40,42,43,45,47,48,49,50,53,54,55,57,59])-1).tolist()\n",
    "    num_bank = int(max_freq/step_bank)\n",
    "    t  = [0, 2]\n",
    "    result = np.zeros([num_subj, num_fold, 4])\n",
    "\n",
    "    for sub in range(num_subj):\n",
    "        # dataset=Dataset(num_class=7,path='Dataset/DataBank/Dataset I/', channel=channels)\n",
    "        dataset=Dataset(num_class=7,path='Dataset/OData/Dataset I/', channel=channels)\n",
    "        dataset.load_data(sub, None)\n",
    "        dataset.divide_data(num_fold)\n",
    "        dataset.filter_data(fs=Fs, frange=frange, order=8, btype='lowpass')\n",
    "        for fold in tqdm(range(num_fold), desc=f'Sub{sub}:'):\n",
    "            train_set, train_label, test_set, test_label = dataset.retreive_data(\n",
    "                    class_index=[0,1,2,3,4,5,6], fold_index=fold, filter_index=np.arange(len(frange))+1)\n",
    "            train_set = train_set[:,:,int(t[0]*Fs):int(t[1]*Fs),:]\n",
    "            test_set  = test_set[:,:,int(t[0]*Fs):int(t[1]*Fs),:]\n",
    "\n",
    "            fbtrca = FBTRCA(Co, frange, optimizer='trca', ifG=False)\n",
    "            fbtrca.fit(train_set, train_label)\n",
    "            train_data = fbtrca.transform(train_set).reshape((len(train_label), fbtrca.K, 8, len(frange)))\n",
    "            test_data  = fbtrca.transform(test_set).reshape((len(test_label), fbtrca.K, 8, len(frange)))\n",
    "            svm   = SVC(kernel='rbf')\n",
    "            svm.fit(train_data.reshape((len(train_label), fbtrca.K*8*len(frange))), train_label)\n",
    "            result[sub,fold, 0] =svm.score(test_data.reshape((len(test_label), fbtrca.K*8*len(frange))), test_label)\n",
    "\n",
    "            fbtrca = FBTRCA(Co, frange, optimizer='trca', ifG=True)\n",
    "            fbtrca.fit(train_set, train_label)\n",
    "            train_data = fbtrca.transform(train_set).reshape((len(train_label), fbtrca.K, 8, len(frange)))\n",
    "            test_data  = fbtrca.transform(test_set).reshape((len(test_label), fbtrca.K, 8, len(frange)))\n",
    "            svm   = SVC(kernel='rbf')\n",
    "            svm.fit(train_data.reshape((len(train_label), fbtrca.K*8*len(frange))), train_label)\n",
    "            result[sub,fold, 1] =svm.score(test_data.reshape((len(test_label), fbtrca.K*8*len(frange))), test_label)\n",
    "            \n",
    "            fbtrca = FBTRCA(Co, frange, optimizer='tdlda', ifG=False)\n",
    "            fbtrca.fit(train_set, train_label)\n",
    "            train_data = fbtrca.transform(train_set).reshape((len(train_label), fbtrca.K, 8, len(frange)))\n",
    "            test_data  = fbtrca.transform(test_set).reshape((len(test_label), fbtrca.K, 8, len(frange)))\n",
    "            svm   = SVC(kernel='rbf')\n",
    "            svm.fit(train_data.reshape((len(train_label), fbtrca.K*8*len(frange))), train_label)\n",
    "            result[sub,fold, 2] =svm.score(test_data.reshape((len(test_label), fbtrca.K*8*len(frange))), test_label)\n",
    "\n",
    "            fbtrca = FBTRCA(Co, frange, optimizer='tdlda', ifG=True)\n",
    "            fbtrca.fit(train_set, train_label)\n",
    "            train_data = fbtrca.transform(train_set).reshape((len(train_label), fbtrca.K, 8, len(frange)))\n",
    "            test_data  = fbtrca.transform(test_set).reshape((len(test_label), fbtrca.K, 8, len(frange)))\n",
    "            svm   = SVC(kernel='rbf')\n",
    "            svm.fit(train_data.reshape((len(train_label), fbtrca.K*8*len(frange))), train_label)\n",
    "            result[sub,fold, 3] =svm.score(test_data.reshape((len(test_label), fbtrca.K*8*len(frange))), test_label)"
   ]
  },
  {
   "cell_type": "code",
   "execution_count": 6,
   "metadata": {},
   "outputs": [
    {
     "data": {
      "text/plain": [
       "array([0.46018007, 0.4562164 , 0.47207057, 0.46807405])"
      ]
     },
     "execution_count": 6,
     "metadata": {},
     "output_type": "execute_result"
    }
   ],
   "source": [
    "np.mean(result,axis=(0,1))"
   ]
  },
  {
   "cell_type": "code",
   "execution_count": 7,
   "metadata": {},
   "outputs": [
    {
     "name": "stderr",
     "output_type": "stream",
     "text": [
      "Sub0:: 100%|██████████| 5/5 [07:00<00:00, 84.11s/it]\n",
      "Sub1:: 100%|██████████| 5/5 [06:45<00:00, 81.06s/it]\n",
      "Sub2:: 100%|██████████| 5/5 [06:31<00:00, 78.24s/it]\n",
      "Sub3:: 100%|██████████| 5/5 [06:59<00:00, 83.86s/it]\n",
      "Sub4:: 100%|██████████| 5/5 [06:53<00:00, 82.77s/it]\n",
      "Sub5:: 100%|██████████| 5/5 [06:33<00:00, 78.76s/it]\n",
      "Sub6:: 100%|██████████| 5/5 [07:04<00:00, 84.84s/it]\n",
      "Sub7:: 100%|██████████| 5/5 [06:52<00:00, 82.42s/it]\n",
      "Sub8:: 100%|██████████| 5/5 [07:10<00:00, 86.18s/it]\n",
      "Sub9:: 100%|██████████| 5/5 [07:08<00:00, 85.67s/it]\n",
      "Sub10:: 100%|██████████| 5/5 [06:26<00:00, 77.36s/it]\n",
      "Sub11:: 100%|██████████| 5/5 [06:30<00:00, 78.03s/it]\n",
      "Sub12:: 100%|██████████| 5/5 [07:06<00:00, 85.31s/it]\n",
      "Sub13:: 100%|██████████| 5/5 [06:38<00:00, 79.76s/it]\n",
      "Sub14:: 100%|██████████| 5/5 [06:50<00:00, 82.04s/it]\n"
     ]
    }
   ],
   "source": [
    "if __name__==\"__main__\":\n",
    "    Fs = 256\n",
    "    Co = 51\n",
    "    num_fold = 5\n",
    "    num_subj = 15\n",
    "    max_freq = 10\n",
    "    step_bank= 2\n",
    "    frange = np.arange(step_bank,max_freq+1,step_bank)\n",
    "    channels = (np.int64([1,2,3,4,5,6,7,10,11,12,13,14,15,16,17,18,19,20,21,24,25,26,27,28,29,30,31,32,33,34,35,36,39,40,41,42,43,44,45,46,47,48,49,50,53,54,55,56,57,58,59])-1).tolist()\n",
    "    num_bank = int(max_freq/step_bank)\n",
    "    t  = [0, 2]\n",
    "    result = np.zeros([num_subj, num_fold, 4])\n",
    "\n",
    "    for sub in range(num_subj):\n",
    "        # dataset=Dataset(num_class=7,path='Dataset/DataBank/Dataset I/', channel=channels)\n",
    "        dataset=Dataset(num_class=7,path='Dataset/OData/Dataset I/', channel=channels)\n",
    "        dataset.load_data(sub, None)\n",
    "        dataset.divide_data(num_fold)\n",
    "        dataset.filter_data(fs=Fs, frange=frange, order=8, btype='lowpass')\n",
    "        for fold in tqdm(range(num_fold), desc=f'Sub{sub}:'):\n",
    "            train_set, train_label, test_set, test_label = dataset.retreive_data(\n",
    "                    class_index=[0,1,2,3,4,5,6], fold_index=fold, filter_index=np.arange(len(frange))+1)\n",
    "            train_set = train_set[:,:,int(t[0]*Fs):int(t[1]*Fs),:]\n",
    "            test_set  = test_set[:,:,int(t[0]*Fs):int(t[1]*Fs),:]\n",
    "\n",
    "            fbtrca = FBTRCA(Co, frange, optimizer='trca', ifG=False)\n",
    "            fbtrca.fit(train_set, train_label)\n",
    "            train_data = fbtrca.transform(train_set).reshape((len(train_label), fbtrca.K, 8, len(frange)))\n",
    "            test_data  = fbtrca.transform(test_set).reshape((len(test_label), fbtrca.K, 8, len(frange)))\n",
    "            svm   = SVC(kernel='rbf')\n",
    "            svm.fit(train_data.reshape((len(train_label), fbtrca.K*8*len(frange))), train_label)\n",
    "            result[sub,fold, 0] =svm.score(test_data.reshape((len(test_label), fbtrca.K*8*len(frange))), test_label)\n",
    "\n",
    "            fbtrca = FBTRCA(Co, frange, optimizer='trca', ifG=True)\n",
    "            fbtrca.fit(train_set, train_label)\n",
    "            train_data = fbtrca.transform(train_set).reshape((len(train_label), fbtrca.K, 8, len(frange)))\n",
    "            test_data  = fbtrca.transform(test_set).reshape((len(test_label), fbtrca.K, 8, len(frange)))\n",
    "            svm   = SVC(kernel='rbf')\n",
    "            svm.fit(train_data.reshape((len(train_label), fbtrca.K*8*len(frange))), train_label)\n",
    "            result[sub,fold, 1] =svm.score(test_data.reshape((len(test_label), fbtrca.K*8*len(frange))), test_label)\n",
    "            \n",
    "            fbtrca = FBTRCA(Co, frange, optimizer='tdlda', ifG=False)\n",
    "            fbtrca.fit(train_set, train_label)\n",
    "            train_data = fbtrca.transform(train_set).reshape((len(train_label), fbtrca.K, 8, len(frange)))\n",
    "            test_data  = fbtrca.transform(test_set).reshape((len(test_label), fbtrca.K, 8, len(frange)))\n",
    "            svm   = SVC(kernel='rbf')\n",
    "            svm.fit(train_data.reshape((len(train_label), fbtrca.K*8*len(frange))), train_label)\n",
    "            result[sub,fold, 2] =svm.score(test_data.reshape((len(test_label), fbtrca.K*8*len(frange))), test_label)\n",
    "\n",
    "            fbtrca = FBTRCA(Co, frange, optimizer='tdlda', ifG=True)\n",
    "            fbtrca.fit(train_set, train_label)\n",
    "            train_data = fbtrca.transform(train_set).reshape((len(train_label), fbtrca.K, 8, len(frange)))\n",
    "            test_data  = fbtrca.transform(test_set).reshape((len(test_label), fbtrca.K, 8, len(frange)))\n",
    "            svm   = SVC(kernel='rbf')\n",
    "            svm.fit(train_data.reshape((len(train_label), fbtrca.K*8*len(frange))), train_label)\n",
    "            result[sub,fold, 3] =svm.score(test_data.reshape((len(test_label), fbtrca.K*8*len(frange))), test_label)"
   ]
  },
  {
   "cell_type": "code",
   "execution_count": 8,
   "metadata": {},
   "outputs": [
    {
     "data": {
      "text/plain": [
       "array([0.45614452, 0.45405769, 0.46735979, 0.46336343])"
      ]
     },
     "execution_count": 8,
     "metadata": {},
     "output_type": "execute_result"
    }
   ],
   "source": [
    "np.mean(result,axis=(0,1))"
   ]
  },
  {
   "cell_type": "code",
   "execution_count": 9,
   "metadata": {},
   "outputs": [
    {
     "name": "stderr",
     "output_type": "stream",
     "text": [
      "Sub0:: 100%|██████████| 5/5 [09:26<00:00, 113.32s/it]\n",
      "Sub1:: 100%|██████████| 5/5 [09:11<00:00, 110.24s/it]\n",
      "Sub2:: 100%|██████████| 5/5 [08:52<00:00, 106.42s/it]\n",
      "Sub3:: 100%|██████████| 5/5 [09:29<00:00, 113.92s/it]\n",
      "Sub4:: 100%|██████████| 5/5 [09:17<00:00, 111.42s/it]\n",
      "Sub5:: 100%|██████████| 5/5 [08:54<00:00, 106.82s/it]\n",
      "Sub6:: 100%|██████████| 5/5 [09:35<00:00, 115.16s/it]\n",
      "Sub7:: 100%|██████████| 5/5 [09:19<00:00, 111.85s/it]\n",
      "Sub8:: 100%|██████████| 5/5 [09:46<00:00, 117.25s/it]\n",
      "Sub9:: 100%|██████████| 5/5 [09:42<00:00, 116.55s/it]\n",
      "Sub10:: 100%|██████████| 5/5 [08:46<00:00, 105.37s/it]\n",
      "Sub11:: 100%|██████████| 5/5 [08:51<00:00, 106.33s/it]\n",
      "Sub12:: 100%|██████████| 5/5 [09:38<00:00, 115.76s/it]\n",
      "Sub13:: 100%|██████████| 5/5 [09:03<00:00, 108.61s/it]\n",
      "Sub14:: 100%|██████████| 5/5 [09:17<00:00, 111.42s/it]\n"
     ]
    }
   ],
   "source": [
    "if __name__==\"__main__\":\n",
    "    Fs = 256\n",
    "    Co = 61\n",
    "    num_fold = 5\n",
    "    num_subj = 15\n",
    "    max_freq = 10\n",
    "    step_bank= 2\n",
    "    frange = np.arange(step_bank,max_freq+1,step_bank)\n",
    "    channels = (np.int64([1, 2, 3, 4, 5, 6, 7, 8, 9, 10, 11, 12, 13, 14, 15, 16, 17, 18, 19, 20, 21, 22, 23, 24, 25, 26, 27, 28, 29, 30, 31, 32, 33, 34, 35, 36, 37, 38, 39, 40, 41, 42, 43, 44, 45, 46, 47, 48, 49, 50, 51, 52, 53, 54, 55, 56, 57, 58, 59, 60, 61])-1).tolist()\n",
    "    num_bank = int(max_freq/step_bank)\n",
    "    t  = [0, 2]\n",
    "    result = np.zeros([num_subj, num_fold, 4])\n",
    "\n",
    "    for sub in range(num_subj):\n",
    "        # dataset=Dataset(num_class=7,path='Dataset/DataBank/Dataset I/', channel=channels)\n",
    "        dataset=Dataset(num_class=7,path='Dataset/OData/Dataset I/', channel=channels)\n",
    "        dataset.load_data(sub, None)\n",
    "        dataset.divide_data(num_fold)\n",
    "        dataset.filter_data(fs=Fs, frange=frange, order=8, btype='lowpass')\n",
    "        for fold in tqdm(range(num_fold), desc=f'Sub{sub}:'):\n",
    "            train_set, train_label, test_set, test_label = dataset.retreive_data(\n",
    "                    class_index=[0,1,2,3,4,5,6], fold_index=fold, filter_index=np.arange(len(frange))+1)\n",
    "            train_set = train_set[:,:,int(t[0]*Fs):int(t[1]*Fs),:]\n",
    "            test_set  = test_set[:,:,int(t[0]*Fs):int(t[1]*Fs),:]\n",
    "\n",
    "            fbtrca = FBTRCA(Co, frange, optimizer='trca', ifG=False)\n",
    "            fbtrca.fit(train_set, train_label)\n",
    "            train_data = fbtrca.transform(train_set).reshape((len(train_label), fbtrca.K, 8, len(frange)))\n",
    "            test_data  = fbtrca.transform(test_set).reshape((len(test_label), fbtrca.K, 8, len(frange)))\n",
    "            svm   = SVC(kernel='rbf')\n",
    "            svm.fit(train_data.reshape((len(train_label), fbtrca.K*8*len(frange))), train_label)\n",
    "            result[sub,fold, 0] =svm.score(test_data.reshape((len(test_label), fbtrca.K*8*len(frange))), test_label)\n",
    "\n",
    "            fbtrca = FBTRCA(Co, frange, optimizer='trca', ifG=True)\n",
    "            fbtrca.fit(train_set, train_label)\n",
    "            train_data = fbtrca.transform(train_set).reshape((len(train_label), fbtrca.K, 8, len(frange)))\n",
    "            test_data  = fbtrca.transform(test_set).reshape((len(test_label), fbtrca.K, 8, len(frange)))\n",
    "            svm   = SVC(kernel='rbf')\n",
    "            svm.fit(train_data.reshape((len(train_label), fbtrca.K*8*len(frange))), train_label)\n",
    "            result[sub,fold, 1] =svm.score(test_data.reshape((len(test_label), fbtrca.K*8*len(frange))), test_label)\n",
    "            \n",
    "            fbtrca = FBTRCA(Co, frange, optimizer='tdlda', ifG=False)\n",
    "            fbtrca.fit(train_set, train_label)\n",
    "            train_data = fbtrca.transform(train_set).reshape((len(train_label), fbtrca.K, 8, len(frange)))\n",
    "            test_data  = fbtrca.transform(test_set).reshape((len(test_label), fbtrca.K, 8, len(frange)))\n",
    "            svm   = SVC(kernel='rbf')\n",
    "            svm.fit(train_data.reshape((len(train_label), fbtrca.K*8*len(frange))), train_label)\n",
    "            result[sub,fold, 2] =svm.score(test_data.reshape((len(test_label), fbtrca.K*8*len(frange))), test_label)\n",
    "\n",
    "            fbtrca = FBTRCA(Co, frange, optimizer='tdlda', ifG=True)\n",
    "            fbtrca.fit(train_set, train_label)\n",
    "            train_data = fbtrca.transform(train_set).reshape((len(train_label), fbtrca.K, 8, len(frange)))\n",
    "            test_data  = fbtrca.transform(test_set).reshape((len(test_label), fbtrca.K, 8, len(frange)))\n",
    "            svm   = SVC(kernel='rbf')\n",
    "            svm.fit(train_data.reshape((len(train_label), fbtrca.K*8*len(frange))), train_label)\n",
    "            result[sub,fold, 3] =svm.score(test_data.reshape((len(test_label), fbtrca.K*8*len(frange))), test_label)"
   ]
  },
  {
   "cell_type": "code",
   "execution_count": 10,
   "metadata": {},
   "outputs": [
    {
     "data": {
      "text/plain": [
       "array([0.4584882 , 0.45399375, 0.47530588, 0.46382434])"
      ]
     },
     "execution_count": 10,
     "metadata": {},
     "output_type": "execute_result"
    }
   ],
   "source": [
    "np.mean(result,axis=(0,1))"
   ]
  }
 ],
 "metadata": {
  "kernelspec": {
   "display_name": "Python 3 (ipykernel)",
   "language": "python",
   "name": "python3"
  },
  "language_info": {
   "codemirror_mode": {
    "name": "ipython",
    "version": 3
   },
   "file_extension": ".py",
   "mimetype": "text/x-python",
   "name": "python",
   "nbconvert_exporter": "python",
   "pygments_lexer": "ipython3",
   "version": "3.8.20"
  }
 },
 "nbformat": 4,
 "nbformat_minor": 4
}
